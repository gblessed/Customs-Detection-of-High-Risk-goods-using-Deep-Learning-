{
  "cells": [
    {
      "cell_type": "code",
      "execution_count": 1,
      "metadata": {
        "id": "Y0HsPEiHHQ6Z"
      },
      "outputs": [],
      "source": [
        "#import all the necessary modules\n",
        "import pandas as pd\n",
        "import numpy as np\n",
        "from sklearn.preprocessing import LabelEncoder\n",
        "from sklearn.preprocessing import OneHotEncoder\n",
        "from sklearn.preprocessing import StandardScaler\n",
        "# from mlxtend.feature_selection import SequentialFeatureSelector\n",
        "from sklearn import svm\n",
        "from sklearn.model_selection import LeaveOneOut\n",
        "from sklearn.model_selection import cross_val_score\n",
        "import math\n",
        "from  numpy import random\n",
        "from sklearn.model_selection import train_test_split"
      ]
    },
    {
      "cell_type": "code",
      "execution_count": 2,
      "metadata": {
        "colab": {
          "base_uri": "https://localhost:8080/",
          "height": 243
        },
        "id": "qB_phRwZKe4n",
        "outputId": "8d79a7cf-bee7-4fa8-9261-3f5201dceb25"
      },
      "outputs": [
        {
          "data": {
            "text/html": [
              "<div>\n",
              "<style scoped>\n",
              "    .dataframe tbody tr th:only-of-type {\n",
              "        vertical-align: middle;\n",
              "    }\n",
              "\n",
              "    .dataframe tbody tr th {\n",
              "        vertical-align: top;\n",
              "    }\n",
              "\n",
              "    .dataframe thead th {\n",
              "        text-align: right;\n",
              "    }\n",
              "</style>\n",
              "<table border=\"1\" class=\"dataframe\">\n",
              "  <thead>\n",
              "    <tr style=\"text-align: right;\">\n",
              "      <th></th>\n",
              "      <th>Unnamed: 0</th>\n",
              "      <th>IMPORTER_NAME</th>\n",
              "      <th>DECLARANT_NAME</th>\n",
              "      <th>CTY_ORIGIN</th>\n",
              "      <th>MODE_OF_TRANSPORT</th>\n",
              "      <th>HS_DESC</th>\n",
              "      <th>ITM_NUM</th>\n",
              "      <th>QTY</th>\n",
              "      <th>GROSS_MASS</th>\n",
              "      <th>NET_MASS</th>\n",
              "      <th>ITM_PRICE</th>\n",
              "      <th>STATISTICAL_VALUE</th>\n",
              "      <th>TOTAL_TAX</th>\n",
              "      <th>INVOICE_AMT</th>\n",
              "    </tr>\n",
              "  </thead>\n",
              "  <tbody>\n",
              "    <tr>\n",
              "      <th>0</th>\n",
              "      <td>0</td>\n",
              "      <td>31208</td>\n",
              "      <td>1605</td>\n",
              "      <td>14</td>\n",
              "      <td>3</td>\n",
              "      <td>5</td>\n",
              "      <td>1.000000</td>\n",
              "      <td>39</td>\n",
              "      <td>54255.0</td>\n",
              "      <td>54255.0</td>\n",
              "      <td>8548650</td>\n",
              "      <td>10336812.0</td>\n",
              "      <td>1241543</td>\n",
              "      <td>8548650</td>\n",
              "    </tr>\n",
              "    <tr>\n",
              "      <th>1</th>\n",
              "      <td>1</td>\n",
              "      <td>28257</td>\n",
              "      <td>1395</td>\n",
              "      <td>34</td>\n",
              "      <td>3</td>\n",
              "      <td>5</td>\n",
              "      <td>1.000000</td>\n",
              "      <td>451</td>\n",
              "      <td>9163.0</td>\n",
              "      <td>9163.0</td>\n",
              "      <td>12511880</td>\n",
              "      <td>14003558.0</td>\n",
              "      <td>944328</td>\n",
              "      <td>12511880</td>\n",
              "    </tr>\n",
              "    <tr>\n",
              "      <th>2</th>\n",
              "      <td>2</td>\n",
              "      <td>14327</td>\n",
              "      <td>485</td>\n",
              "      <td>96</td>\n",
              "      <td>3</td>\n",
              "      <td>5</td>\n",
              "      <td>1.000000</td>\n",
              "      <td>1</td>\n",
              "      <td>100.0</td>\n",
              "      <td>100.0</td>\n",
              "      <td>473841</td>\n",
              "      <td>512695.0</td>\n",
              "      <td>383905</td>\n",
              "      <td>1587602</td>\n",
              "    </tr>\n",
              "    <tr>\n",
              "      <th>3</th>\n",
              "      <td>3</td>\n",
              "      <td>13878</td>\n",
              "      <td>1602</td>\n",
              "      <td>34</td>\n",
              "      <td>3</td>\n",
              "      <td>10</td>\n",
              "      <td>0.333333</td>\n",
              "      <td>235</td>\n",
              "      <td>5000.0</td>\n",
              "      <td>5000.0</td>\n",
              "      <td>1441725</td>\n",
              "      <td>1692495.0</td>\n",
              "      <td>1088758</td>\n",
              "      <td>7717523</td>\n",
              "    </tr>\n",
              "    <tr>\n",
              "      <th>4</th>\n",
              "      <td>4</td>\n",
              "      <td>24274</td>\n",
              "      <td>1253</td>\n",
              "      <td>34</td>\n",
              "      <td>3</td>\n",
              "      <td>10</td>\n",
              "      <td>0.666667</td>\n",
              "      <td>546</td>\n",
              "      <td>6000.0</td>\n",
              "      <td>6000.0</td>\n",
              "      <td>3974100</td>\n",
              "      <td>4317755.0</td>\n",
              "      <td>1595116</td>\n",
              "      <td>10699500</td>\n",
              "    </tr>\n",
              "  </tbody>\n",
              "</table>\n",
              "</div>"
            ],
            "text/plain": [
              "   Unnamed: 0  IMPORTER_NAME  DECLARANT_NAME  CTY_ORIGIN  MODE_OF_TRANSPORT  \\\n",
              "0           0          31208            1605          14                  3   \n",
              "1           1          28257            1395          34                  3   \n",
              "2           2          14327             485          96                  3   \n",
              "3           3          13878            1602          34                  3   \n",
              "4           4          24274            1253          34                  3   \n",
              "\n",
              "   HS_DESC   ITM_NUM  QTY  GROSS_MASS  NET_MASS  ITM_PRICE  STATISTICAL_VALUE  \\\n",
              "0        5  1.000000   39     54255.0   54255.0    8548650         10336812.0   \n",
              "1        5  1.000000  451      9163.0    9163.0   12511880         14003558.0   \n",
              "2        5  1.000000    1       100.0     100.0     473841           512695.0   \n",
              "3       10  0.333333  235      5000.0    5000.0    1441725          1692495.0   \n",
              "4       10  0.666667  546      6000.0    6000.0    3974100          4317755.0   \n",
              "\n",
              "   TOTAL_TAX  INVOICE_AMT  \n",
              "0    1241543      8548650  \n",
              "1     944328     12511880  \n",
              "2     383905      1587602  \n",
              "3    1088758      7717523  \n",
              "4    1595116     10699500  "
            ]
          },
          "execution_count": 2,
          "metadata": {},
          "output_type": "execute_result"
        }
      ],
      "source": [
        "#READ THE FEATURES FROM THE FILES\n",
        "all_data = pd.read_csv('new_data2_classes.csv')\n",
        "\n",
        "# transform the the data into numerical using label encoder\n",
        "for keys_ in all_data.keys():\n",
        "    if isinstance(all_data[keys_][0], str):\n",
        "      all_data[keys_] = LabelEncoder().fit_transform(all_data[keys_].tolist())\n",
        "      # print(all_data[keys_][:5])\n",
        "# all_data.head()\n",
        "all_data = all_data.dropna()\n",
        "all_data = all_data.drop_duplicates()\n",
        "features = all_data.drop(columns=['target'])\n",
        "# features = OneHotEncoder().fit_transform(features)\n",
        "labels= all_data['target']\n",
        "features.head()\n"
      ]
    },
    {
      "cell_type": "code",
      "execution_count": 3,
      "metadata": {
        "colab": {
          "base_uri": "https://localhost:8080/"
        },
        "id": "ySpZsF4Diwar",
        "outputId": "833c7ab6-473e-4e04-cf3a-a480545e72fc"
      },
      "outputs": [
        {
          "data": {
            "text/plain": [
              "300000"
            ]
          },
          "execution_count": 3,
          "metadata": {},
          "output_type": "execute_result"
        }
      ],
      "source": [
        "#NUMBER OF SAMPLES\n",
        "len(features)"
      ]
    },
    {
      "cell_type": "code",
      "execution_count": 4,
      "metadata": {
        "colab": {
          "base_uri": "https://localhost:8080/",
          "height": 226
        },
        "id": "A4dDarFoLzDw",
        "outputId": "8fcf6011-75c1-4b8e-a564-869a1917883a"
      },
      "outputs": [
        {
          "data": {
            "text/html": [
              "<div>\n",
              "<style scoped>\n",
              "    .dataframe tbody tr th:only-of-type {\n",
              "        vertical-align: middle;\n",
              "    }\n",
              "\n",
              "    .dataframe tbody tr th {\n",
              "        vertical-align: top;\n",
              "    }\n",
              "\n",
              "    .dataframe thead th {\n",
              "        text-align: right;\n",
              "    }\n",
              "</style>\n",
              "<table border=\"1\" class=\"dataframe\">\n",
              "  <thead>\n",
              "    <tr style=\"text-align: right;\">\n",
              "      <th></th>\n",
              "      <th>IMPORTER_NAME</th>\n",
              "      <th>DECLARANT_NAME</th>\n",
              "      <th>CTY_ORIGIN</th>\n",
              "      <th>MODE_OF_TRANSPORT</th>\n",
              "      <th>HS_DESC</th>\n",
              "      <th>ITM_NUM</th>\n",
              "      <th>QTY</th>\n",
              "      <th>GROSS_MASS</th>\n",
              "      <th>NET_MASS</th>\n",
              "      <th>ITM_PRICE</th>\n",
              "      <th>STATISTICAL_VALUE</th>\n",
              "      <th>TOTAL_TAX</th>\n",
              "      <th>INVOICE_AMT</th>\n",
              "      <th>target</th>\n",
              "    </tr>\n",
              "  </thead>\n",
              "  <tbody>\n",
              "    <tr>\n",
              "      <th>0</th>\n",
              "      <td>31208</td>\n",
              "      <td>1605</td>\n",
              "      <td>14</td>\n",
              "      <td>3</td>\n",
              "      <td>5</td>\n",
              "      <td>1.000000</td>\n",
              "      <td>39</td>\n",
              "      <td>54255.0</td>\n",
              "      <td>54255.0</td>\n",
              "      <td>8548650</td>\n",
              "      <td>10336812.0</td>\n",
              "      <td>1241543</td>\n",
              "      <td>8548650</td>\n",
              "      <td>0</td>\n",
              "    </tr>\n",
              "    <tr>\n",
              "      <th>1</th>\n",
              "      <td>28257</td>\n",
              "      <td>1395</td>\n",
              "      <td>34</td>\n",
              "      <td>3</td>\n",
              "      <td>5</td>\n",
              "      <td>1.000000</td>\n",
              "      <td>451</td>\n",
              "      <td>9163.0</td>\n",
              "      <td>9163.0</td>\n",
              "      <td>12511880</td>\n",
              "      <td>14003558.0</td>\n",
              "      <td>944328</td>\n",
              "      <td>12511880</td>\n",
              "      <td>0</td>\n",
              "    </tr>\n",
              "    <tr>\n",
              "      <th>2</th>\n",
              "      <td>14327</td>\n",
              "      <td>485</td>\n",
              "      <td>96</td>\n",
              "      <td>3</td>\n",
              "      <td>5</td>\n",
              "      <td>1.000000</td>\n",
              "      <td>1</td>\n",
              "      <td>100.0</td>\n",
              "      <td>100.0</td>\n",
              "      <td>473841</td>\n",
              "      <td>512695.0</td>\n",
              "      <td>383905</td>\n",
              "      <td>1587602</td>\n",
              "      <td>0</td>\n",
              "    </tr>\n",
              "    <tr>\n",
              "      <th>3</th>\n",
              "      <td>13878</td>\n",
              "      <td>1602</td>\n",
              "      <td>34</td>\n",
              "      <td>3</td>\n",
              "      <td>10</td>\n",
              "      <td>0.333333</td>\n",
              "      <td>235</td>\n",
              "      <td>5000.0</td>\n",
              "      <td>5000.0</td>\n",
              "      <td>1441725</td>\n",
              "      <td>1692495.0</td>\n",
              "      <td>1088758</td>\n",
              "      <td>7717523</td>\n",
              "      <td>0</td>\n",
              "    </tr>\n",
              "    <tr>\n",
              "      <th>4</th>\n",
              "      <td>24274</td>\n",
              "      <td>1253</td>\n",
              "      <td>34</td>\n",
              "      <td>3</td>\n",
              "      <td>10</td>\n",
              "      <td>0.666667</td>\n",
              "      <td>546</td>\n",
              "      <td>6000.0</td>\n",
              "      <td>6000.0</td>\n",
              "      <td>3974100</td>\n",
              "      <td>4317755.0</td>\n",
              "      <td>1595116</td>\n",
              "      <td>10699500</td>\n",
              "      <td>0</td>\n",
              "    </tr>\n",
              "  </tbody>\n",
              "</table>\n",
              "</div>"
            ],
            "text/plain": [
              "   IMPORTER_NAME  DECLARANT_NAME  CTY_ORIGIN  MODE_OF_TRANSPORT  HS_DESC  \\\n",
              "0          31208            1605          14                  3        5   \n",
              "1          28257            1395          34                  3        5   \n",
              "2          14327             485          96                  3        5   \n",
              "3          13878            1602          34                  3       10   \n",
              "4          24274            1253          34                  3       10   \n",
              "\n",
              "    ITM_NUM  QTY  GROSS_MASS  NET_MASS  ITM_PRICE  STATISTICAL_VALUE  \\\n",
              "0  1.000000   39     54255.0   54255.0    8548650         10336812.0   \n",
              "1  1.000000  451      9163.0    9163.0   12511880         14003558.0   \n",
              "2  1.000000    1       100.0     100.0     473841           512695.0   \n",
              "3  0.333333  235      5000.0    5000.0    1441725          1692495.0   \n",
              "4  0.666667  546      6000.0    6000.0    3974100          4317755.0   \n",
              "\n",
              "   TOTAL_TAX  INVOICE_AMT  target  \n",
              "0    1241543      8548650       0  \n",
              "1     944328     12511880       0  \n",
              "2     383905      1587602       0  \n",
              "3    1088758      7717523       0  \n",
              "4    1595116     10699500       0  "
            ]
          },
          "execution_count": 4,
          "metadata": {},
          "output_type": "execute_result"
        }
      ],
      "source": [
        "#REMOVE IRRELEVANT FEATURE, MANUALLY\n",
        "features = all_data.drop(columns=['Unnamed: 0'])\n",
        "features.head()"
      ]
    },
    {
      "cell_type": "code",
      "execution_count": 5,
      "metadata": {
        "colab": {
          "base_uri": "https://localhost:8080/",
          "height": 423
        },
        "id": "JBVfv01XP6Ub",
        "outputId": "11d02a67-71b2-4113-8cdb-7c4595665bae"
      },
      "outputs": [
        {
          "data": {
            "text/html": [
              "<div>\n",
              "<style scoped>\n",
              "    .dataframe tbody tr th:only-of-type {\n",
              "        vertical-align: middle;\n",
              "    }\n",
              "\n",
              "    .dataframe tbody tr th {\n",
              "        vertical-align: top;\n",
              "    }\n",
              "\n",
              "    .dataframe thead th {\n",
              "        text-align: right;\n",
              "    }\n",
              "</style>\n",
              "<table border=\"1\" class=\"dataframe\">\n",
              "  <thead>\n",
              "    <tr style=\"text-align: right;\">\n",
              "      <th></th>\n",
              "      <th>DECLARANT_NAME</th>\n",
              "      <th>CTY_ORIGIN</th>\n",
              "      <th>MODE_OF_TRANSPORT</th>\n",
              "      <th>HS_DESC</th>\n",
              "      <th>ITM_NUM</th>\n",
              "      <th>QTY</th>\n",
              "      <th>GROSS_MASS</th>\n",
              "      <th>NET_MASS</th>\n",
              "      <th>ITM_PRICE</th>\n",
              "      <th>STATISTICAL_VALUE</th>\n",
              "      <th>TOTAL_TAX</th>\n",
              "      <th>INVOICE_AMT</th>\n",
              "      <th>target</th>\n",
              "    </tr>\n",
              "  </thead>\n",
              "  <tbody>\n",
              "    <tr>\n",
              "      <th>0</th>\n",
              "      <td>1605</td>\n",
              "      <td>14</td>\n",
              "      <td>3</td>\n",
              "      <td>5</td>\n",
              "      <td>1.000000</td>\n",
              "      <td>39</td>\n",
              "      <td>54255.0</td>\n",
              "      <td>54255.0</td>\n",
              "      <td>8548650</td>\n",
              "      <td>10336812.0</td>\n",
              "      <td>1241543</td>\n",
              "      <td>8548650</td>\n",
              "      <td>0</td>\n",
              "    </tr>\n",
              "    <tr>\n",
              "      <th>1</th>\n",
              "      <td>1395</td>\n",
              "      <td>34</td>\n",
              "      <td>3</td>\n",
              "      <td>5</td>\n",
              "      <td>1.000000</td>\n",
              "      <td>451</td>\n",
              "      <td>9163.0</td>\n",
              "      <td>9163.0</td>\n",
              "      <td>12511880</td>\n",
              "      <td>14003558.0</td>\n",
              "      <td>944328</td>\n",
              "      <td>12511880</td>\n",
              "      <td>0</td>\n",
              "    </tr>\n",
              "    <tr>\n",
              "      <th>2</th>\n",
              "      <td>485</td>\n",
              "      <td>96</td>\n",
              "      <td>3</td>\n",
              "      <td>5</td>\n",
              "      <td>1.000000</td>\n",
              "      <td>1</td>\n",
              "      <td>100.0</td>\n",
              "      <td>100.0</td>\n",
              "      <td>473841</td>\n",
              "      <td>512695.0</td>\n",
              "      <td>383905</td>\n",
              "      <td>1587602</td>\n",
              "      <td>0</td>\n",
              "    </tr>\n",
              "    <tr>\n",
              "      <th>3</th>\n",
              "      <td>1602</td>\n",
              "      <td>34</td>\n",
              "      <td>3</td>\n",
              "      <td>10</td>\n",
              "      <td>0.333333</td>\n",
              "      <td>235</td>\n",
              "      <td>5000.0</td>\n",
              "      <td>5000.0</td>\n",
              "      <td>1441725</td>\n",
              "      <td>1692495.0</td>\n",
              "      <td>1088758</td>\n",
              "      <td>7717523</td>\n",
              "      <td>0</td>\n",
              "    </tr>\n",
              "    <tr>\n",
              "      <th>4</th>\n",
              "      <td>1253</td>\n",
              "      <td>34</td>\n",
              "      <td>3</td>\n",
              "      <td>10</td>\n",
              "      <td>0.666667</td>\n",
              "      <td>546</td>\n",
              "      <td>6000.0</td>\n",
              "      <td>6000.0</td>\n",
              "      <td>3974100</td>\n",
              "      <td>4317755.0</td>\n",
              "      <td>1595116</td>\n",
              "      <td>10699500</td>\n",
              "      <td>0</td>\n",
              "    </tr>\n",
              "    <tr>\n",
              "      <th>...</th>\n",
              "      <td>...</td>\n",
              "      <td>...</td>\n",
              "      <td>...</td>\n",
              "      <td>...</td>\n",
              "      <td>...</td>\n",
              "      <td>...</td>\n",
              "      <td>...</td>\n",
              "      <td>...</td>\n",
              "      <td>...</td>\n",
              "      <td>...</td>\n",
              "      <td>...</td>\n",
              "      <td>...</td>\n",
              "      <td>...</td>\n",
              "    </tr>\n",
              "    <tr>\n",
              "      <th>299995</th>\n",
              "      <td>49</td>\n",
              "      <td>112</td>\n",
              "      <td>3</td>\n",
              "      <td>20</td>\n",
              "      <td>1.000000</td>\n",
              "      <td>1</td>\n",
              "      <td>500.0</td>\n",
              "      <td>500.0</td>\n",
              "      <td>884735</td>\n",
              "      <td>884735.0</td>\n",
              "      <td>256974</td>\n",
              "      <td>884735</td>\n",
              "      <td>1</td>\n",
              "    </tr>\n",
              "    <tr>\n",
              "      <th>299996</th>\n",
              "      <td>284</td>\n",
              "      <td>60</td>\n",
              "      <td>4</td>\n",
              "      <td>20</td>\n",
              "      <td>0.500000</td>\n",
              "      <td>168</td>\n",
              "      <td>73920.0</td>\n",
              "      <td>73920.0</td>\n",
              "      <td>97216679</td>\n",
              "      <td>114258777.0</td>\n",
              "      <td>33628992</td>\n",
              "      <td>101609995</td>\n",
              "      <td>1</td>\n",
              "    </tr>\n",
              "    <tr>\n",
              "      <th>299997</th>\n",
              "      <td>838</td>\n",
              "      <td>34</td>\n",
              "      <td>3</td>\n",
              "      <td>5</td>\n",
              "      <td>0.333333</td>\n",
              "      <td>1605</td>\n",
              "      <td>36000.0</td>\n",
              "      <td>36000.0</td>\n",
              "      <td>19784288</td>\n",
              "      <td>21861012.0</td>\n",
              "      <td>1889267</td>\n",
              "      <td>21740288</td>\n",
              "      <td>1</td>\n",
              "    </tr>\n",
              "    <tr>\n",
              "      <th>299998</th>\n",
              "      <td>137</td>\n",
              "      <td>130</td>\n",
              "      <td>3</td>\n",
              "      <td>5</td>\n",
              "      <td>1.000000</td>\n",
              "      <td>1</td>\n",
              "      <td>45.0</td>\n",
              "      <td>45.0</td>\n",
              "      <td>327392</td>\n",
              "      <td>359582.0</td>\n",
              "      <td>43506</td>\n",
              "      <td>327392</td>\n",
              "      <td>1</td>\n",
              "    </tr>\n",
              "    <tr>\n",
              "      <th>299999</th>\n",
              "      <td>368</td>\n",
              "      <td>34</td>\n",
              "      <td>3</td>\n",
              "      <td>10</td>\n",
              "      <td>0.666667</td>\n",
              "      <td>200</td>\n",
              "      <td>10000.0</td>\n",
              "      <td>10000.0</td>\n",
              "      <td>612032</td>\n",
              "      <td>790406.0</td>\n",
              "      <td>600438</td>\n",
              "      <td>2357143</td>\n",
              "      <td>1</td>\n",
              "    </tr>\n",
              "  </tbody>\n",
              "</table>\n",
              "<p>300000 rows × 13 columns</p>\n",
              "</div>"
            ],
            "text/plain": [
              "        DECLARANT_NAME  CTY_ORIGIN  MODE_OF_TRANSPORT  HS_DESC   ITM_NUM  \\\n",
              "0                 1605          14                  3        5  1.000000   \n",
              "1                 1395          34                  3        5  1.000000   \n",
              "2                  485          96                  3        5  1.000000   \n",
              "3                 1602          34                  3       10  0.333333   \n",
              "4                 1253          34                  3       10  0.666667   \n",
              "...                ...         ...                ...      ...       ...   \n",
              "299995              49         112                  3       20  1.000000   \n",
              "299996             284          60                  4       20  0.500000   \n",
              "299997             838          34                  3        5  0.333333   \n",
              "299998             137         130                  3        5  1.000000   \n",
              "299999             368          34                  3       10  0.666667   \n",
              "\n",
              "         QTY  GROSS_MASS  NET_MASS  ITM_PRICE  STATISTICAL_VALUE  TOTAL_TAX  \\\n",
              "0         39     54255.0   54255.0    8548650         10336812.0    1241543   \n",
              "1        451      9163.0    9163.0   12511880         14003558.0     944328   \n",
              "2          1       100.0     100.0     473841           512695.0     383905   \n",
              "3        235      5000.0    5000.0    1441725          1692495.0    1088758   \n",
              "4        546      6000.0    6000.0    3974100          4317755.0    1595116   \n",
              "...      ...         ...       ...        ...                ...        ...   \n",
              "299995     1       500.0     500.0     884735           884735.0     256974   \n",
              "299996   168     73920.0   73920.0   97216679        114258777.0   33628992   \n",
              "299997  1605     36000.0   36000.0   19784288         21861012.0    1889267   \n",
              "299998     1        45.0      45.0     327392           359582.0      43506   \n",
              "299999   200     10000.0   10000.0     612032           790406.0     600438   \n",
              "\n",
              "        INVOICE_AMT  target  \n",
              "0           8548650       0  \n",
              "1          12511880       0  \n",
              "2           1587602       0  \n",
              "3           7717523       0  \n",
              "4          10699500       0  \n",
              "...             ...     ...  \n",
              "299995       884735       1  \n",
              "299996    101609995       1  \n",
              "299997     21740288       1  \n",
              "299998       327392       1  \n",
              "299999      2357143       1  \n",
              "\n",
              "[300000 rows x 13 columns]"
            ]
          },
          "execution_count": 5,
          "metadata": {},
          "output_type": "execute_result"
        }
      ],
      "source": [
        "#REMOVE IRRELEVANT FEATURE, MANUALLY\n",
        "features.drop(columns=['IMPORTER_NAME'])"
      ]
    },
    {
      "cell_type": "code",
      "execution_count": 6,
      "metadata": {
        "id": "HnepyG0ZQWlv"
      },
      "outputs": [],
      "source": [
        "#TRANSFORM FEATURES USING 1 HOT ENCODER\n",
        "features_new = OneHotEncoder().fit_transform(features)"
      ]
    },
    {
      "cell_type": "code",
      "execution_count": 7,
      "metadata": {
        "colab": {
          "base_uri": "https://localhost:8080/"
        },
        "id": "r6_Qme33Mz7a",
        "outputId": "db17b73b-b11f-40f4-d0f8-7444abfe175b"
      },
      "outputs": [
        {
          "data": {
            "text/plain": [
              "(300000, 733804)"
            ]
          },
          "execution_count": 7,
          "metadata": {},
          "output_type": "execute_result"
        }
      ],
      "source": [
        "#VIEW  FEATURES DIMENSION\n",
        "features_new.shape"
      ]
    },
    {
      "cell_type": "code",
      "execution_count": 8,
      "metadata": {
        "id": "AavXG-W4KYD6"
      },
      "outputs": [],
      "source": [
        "#NORMALIZATION USING STANDARD SCALER\n",
        "scaler = StandardScaler()\n",
        "features = (scaler.fit_transform(features))"
      ]
    },
    {
      "cell_type": "code",
      "execution_count": 9,
      "metadata": {
        "colab": {
          "base_uri": "https://localhost:8080/"
        },
        "id": "EJq1fR-eRg0w",
        "outputId": "8a8ddb3c-debb-46d2-c3ee-6005d6effc47"
      },
      "outputs": [
        {
          "name": "stdout",
          "output_type": "stream",
          "text": [
            "[1. 1. 1. 1. 1. 1. 1. 1. 1. 1. 1. 1. 1. 1.]\n"
          ]
        }
      ],
      "source": [
        "print(features.std(axis=0))"
      ]
    },
    {
      "cell_type": "code",
      "execution_count": 10,
      "metadata": {
        "colab": {
          "base_uri": "https://localhost:8080/"
        },
        "id": "SCzt61O3Rtzt",
        "outputId": "3ab1f5dd-a052-480e-d167-aa7f768f6de3"
      },
      "outputs": [
        {
          "data": {
            "text/plain": [
              "(300000, 14)"
            ]
          },
          "execution_count": 10,
          "metadata": {},
          "output_type": "execute_result"
        }
      ],
      "source": [
        "#PERCENTILE SELECTION\n",
        "from sklearn.feature_selection import SelectPercentile, f_classif\n",
        "np.seterr(divide='ignore', invalid='ignore');\n",
        "selector=SelectPercentile(f_classif, percentile=100)\n",
        "new_features = selector.fit_transform(features,labels)\n",
        "new_features.shape\n"
      ]
    },
    {
      "cell_type": "code",
      "execution_count": 11,
      "metadata": {
        "id": "nPROjqL-43hV"
      },
      "outputs": [],
      "source": [
        "#RANDOMLY SHUFFLE SAMPLES\n",
        "import random\n",
        "\n",
        "randomizer= list(range(len(labels)))\n",
        "random.shuffle(randomizer)\n",
        "\n",
        "new_features  = new_features[randomizer]\n",
        "labels = labels[randomizer]"
      ]
    },
    {
      "cell_type": "code",
      "execution_count": 12,
      "metadata": {
        "colab": {
          "base_uri": "https://localhost:8080/"
        },
        "id": "Rrmqvkj4R9nY",
        "outputId": "25e58301-8358-45e3-d5bf-7c755f623ab6"
      },
      "outputs": [
        {
          "data": {
            "text/plain": [
              "array([[-1.3466986 ,  1.64306642,  1.51669628,  0.02849536,  0.67182256,\n",
              "        -0.96704952, -0.10099374, -0.07608918, -0.07546205, -0.00280839,\n",
              "        -0.00295544, -0.05663419, -0.00291916,  0.70710678],\n",
              "       [ 0.28276347, -0.18622058,  1.479772  ,  0.88524092, -0.3111454 ,\n",
              "         0.7599201 , -0.09912707, -0.06253851, -0.06189183, -0.00277913,\n",
              "        -0.00291211, -0.06100436, -0.00294756, -1.41421356]])"
            ]
          },
          "execution_count": 12,
          "metadata": {},
          "output_type": "execute_result"
        }
      ],
      "source": [
        "new_features[:2]"
      ]
    },
    {
      "cell_type": "code",
      "execution_count": 13,
      "metadata": {
        "colab": {
          "base_uri": "https://localhost:8080/"
        },
        "id": "0hKeMDOLSuoY",
        "outputId": "68ff5e22-edb7-4f46-bdfd-f5933b6dc14f"
      },
      "outputs": [
        {
          "name": "stdout",
          "output_type": "stream",
          "text": [
            "len of x_train 210000\n",
            "len of y_train 210000\n",
            "len of y_test 90000\n",
            "len of x_test 90000\n"
          ]
        }
      ],
      "source": [
        "X_train, X_test, y_train, y_test = train_test_split(new_features, labels, test_size=0.3, shuffle= True)\n",
        "print('len of x_train' , len(X_train))\n",
        "print('len of y_train' , len(y_train))\n",
        "print('len of y_test' , len(y_test))\n",
        "print('len of x_test' , len(X_test))"
      ]
    },
    {
      "cell_type": "code",
      "execution_count": 14,
      "metadata": {
        "colab": {
          "base_uri": "https://localhost:8080/"
        },
        "id": "MlpKI3w-Klt2",
        "outputId": "0ffaaa34-0cf3-4135-b0f7-faa20bf6f84d"
      },
      "outputs": [],
      "source": [
        "#LOAD KNN FOR FIREFLY ALGORITHM\n",
        "from sklearn import svm\n",
        "from sklearn.ensemble import RandomForestClassifier\n",
        "from sklearn.naive_bayes import GaussianNB\n",
        "from sklearn.neighbors import KNeighborsClassifier\n",
        "#  clf = svm.SVC(kernel='poly')\n",
        "#  clf = RandomForestClassifier()\n",
        "clf = KNeighborsClassifier()\n",
        "#  clf.fit(X_train, y_train)"
      ]
    },
    {
      "cell_type": "code",
      "execution_count": 15,
      "metadata": {
        "colab": {
          "base_uri": "https://localhost:8080/"
        },
        "id": "X9QphpVPhN54",
        "outputId": "e942b3c1-5da0-43f7-e0fa-d6b1929f51ec"
      },
      "outputs": [],
      "source": [
        "X_FIRE_FLY = X_train[:1000]\n",
        "Y_FIRE_FLY = y_train[:1000]"
      ]
    },
    {
      "cell_type": "code",
      "execution_count": 17,
      "metadata": {
        "id": "aqsq1yccCeuB"
      },
      "outputs": [],
      "source": [
        "#FIREFLY ALGORITHM\n",
        "from sklearn import svm\n",
        "from sklearn.model_selection import LeaveOneOut\n",
        "from sklearn.model_selection import cross_val_score\n",
        "import math\n",
        "from  numpy import random\n",
        "class FireflyAlgorithm():\n",
        "\n",
        "    def __init__(self, function):\n",
        "        self.D = 14  # dimension of the problem (Gene number)\n",
        "        self.NP = 5  # population size (Firefly number)\n",
        "        self.nFES = 1  # number of function evaluations (repeate number)\n",
        "        self.alpha = 1  # alpha parameter,(randomization parameter)\n",
        "        self.betamin = 0.5  # beta parameter\n",
        "        self.gamma = 1  # gamma parameter (light intensity coefficency)\n",
        "        # sort of fireflies according to fitness value\n",
        "        self.Index = [0] * self.NP\n",
        "        self.Fireflies = [[np.random.rand() for i in range(self.D)] for j in range(self.NP)]  # firefly agents,\n",
        "        self.Fireflies_tmp = [[np.random.rand() for i in range(self.D)] for j in range(\n",
        "            self.NP)]  # intermediate pop\n",
        "        self.Fitness = [0.0] * self.NP  # fitness values (Accuracy)\n",
        "        self.I = [0.0] * self.NP  # light intensity\n",
        "        self.nbest = [0.0] * self.NP  # the best solution found so far\n",
        "        self.LB = 0  # lower bound\n",
        "        self.UB = 1  # upper bound\n",
        "        self.fbest = None  # the best\n",
        "        self.evaluations = 0\n",
        "        self.Fun = function\n",
        "\n",
        "    def alpha_new(self, a):\n",
        "        delta = 1.0 - math.pow((math.pow(10.0, -4.0) / 0.9), 1.0 / float(a))\n",
        "        return (1 - delta) * self.alpha\n",
        "\n",
        "    def sort_ffa(self):  # implementation of bubble sort\n",
        "\n",
        "        for i in range(self.NP):\n",
        "            self.Index[i] = i\n",
        "\n",
        "        for i in range(0, (self.NP - 1)):\n",
        "            j = i + 1\n",
        "            for j in range(j, self.NP):\n",
        "                if (self.I[i] > self.I[j]):\n",
        "                    z = self.I[i]  # exchange attractiveness\n",
        "                    self.I[i] = self.I[j]\n",
        "                    self.I[j] = z\n",
        "                    z = self.Fitness[i]  # exchange fitness\n",
        "                    self.Fitness[i] = self.Fitness[j]\n",
        "                    self.Fitness[j] = z\n",
        "                    z = self.Index[i]  # exchange indexes\n",
        "                    self.Index[i] = self.Index[j]\n",
        "                    self.Index[j] = z\n",
        "\n",
        "\n",
        "    def replace_ffa(self):  # replace the old population according to the new Index values\n",
        "        # copy original population to a temporary area\n",
        "        for i in range(self.NP):\n",
        "            for j in range(self.D):\n",
        "                self.Fireflies_tmp[i][j] = self.Fireflies[i][j]\n",
        "\n",
        "        # generational selection in the sense of an EA\n",
        "        for i in range(self.NP):\n",
        "            for j in range(self.D):\n",
        "                self.Fireflies[i][j] = self.Fireflies_tmp[self.Index[i]][j]\n",
        "\n",
        "    def FindLimits(self, k):\n",
        "        for i in range(self.D):\n",
        "            if self.Fireflies[k][i] < self.LB:\n",
        "                self.Fireflies[k][i] = self.LB\n",
        "            if self.Fireflies[k][i] > self.UB:\n",
        "                self.Fireflies[k][i] = self.UB\n",
        "\n",
        "    def move_ffa(self):\n",
        "        for i in range(self.NP):\n",
        "            scale = abs(self.UB - self.LB)\n",
        "            for j in range(self.NP):\n",
        "                r = 0.0\n",
        "                for k in range(self.D):\n",
        "                    r += (self.Fireflies[i][k] - self.Fireflies[j][k]) * \\\n",
        "                        (self.Fireflies[i][k] - self.Fireflies[j][k])\n",
        "                r = math.sqrt(r)\n",
        "                if self.I[i] > self.I[j]:  # brighter and more attractive\n",
        "                    beta0 = 1.0\n",
        "                    beta = (beta0 - self.betamin) * math.exp(-self.gamma * math.pow(r, 2.0)) + self.betamin\n",
        "                    for k in range(self.D):\n",
        "                        r = random.uniform(0, 1)\n",
        "                        tmpf = self.alpha * (r - 0.5) * scale\n",
        "                        self.Fireflies[i][k] = self.Fireflies[i][\n",
        "                            k] * (1.0 - beta) + self.Fireflies_tmp[j][k] * beta + tmpf\n",
        "            self.FindLimits(i)\n",
        "\n",
        "    def Run(self):\n",
        "        while self.evaluations < self.nFES:\n",
        "            print(self.evaluations, '----', self.nFES)\n",
        "\n",
        "            # optional reducing of alpha\n",
        "            #self.alpha = self.alpha_new(self.nFES/self.NP)\n",
        "            self.evaluations = self.evaluations + 1\n",
        "            # evaluate new solutions\n",
        "            for i in range(self.NP):\n",
        "                print('evaluating..solutions')\n",
        "                self.Fitness[i] = self.Fun(self.Fireflies[i])\n",
        "\n",
        "                self.I[i] = self.Fitness[i]\n",
        "\n",
        "\n",
        "            # ranking fireflies by their light intensit\n",
        "            self.sort_ffa()\n",
        "            # replace old population\n",
        "            self.replace_ffa()\n",
        "            # move all fireflies to the better locations\n",
        "            self.move_ffa()\n",
        "\n",
        "        bestFirefly = self.Fireflies[self.NP - 1]\n",
        "\n",
        "        return bestFirefly\n",
        "\n",
        "def evaluation(feature_possibilities):\n",
        "        feature_possibilities = np.round(feature_possibilities)\n",
        "\n",
        "        feature_possibilities = feature_possibilities > np.float32(0.5)\n",
        "\n",
        "        selectedX = X_FIRE_FLY[:, feature_possibilities]\n",
        "\n",
        "        s = KNeighborsClassifier()\n",
        "\n",
        "        loocv = LeaveOneOut()\n",
        "        evaluation = cross_val_score(s, selectedX, Y_FIRE_FLY,  cv=loocv)\n",
        "\n",
        "        return evaluation.mean()"
      ]
    },
    {
      "cell_type": "code",
      "execution_count": 18,
      "metadata": {
        "colab": {
          "base_uri": "https://localhost:8080/",
          "height": 413
        },
        "id": "BepP_pugDHM9",
        "outputId": "8c751356-5c24-4be3-cfd0-b082bdedf799"
      },
      "outputs": [
        {
          "name": "stdout",
          "output_type": "stream",
          "text": [
            "0 ---- 1\n",
            "evaluating..solutions\n",
            "evaluating..solutions\n",
            "evaluating..solutions\n",
            "evaluating..solutions\n",
            "evaluating..solutions\n"
          ]
        }
      ],
      "source": [
        "#RUN FIREFLY ALGORITHM\n",
        "Algorithm = FireflyAlgorithm(evaluation)\n",
        "Best = Algorithm.Run()\n",
        "\n"
      ]
    },
    {
      "cell_type": "code",
      "execution_count": 19,
      "metadata": {
        "colab": {
          "base_uri": "https://localhost:8080/"
        },
        "id": "h9U0a-AYGG-r",
        "outputId": "922217d9-f4ff-43e8-80c7-3df63e2753de"
      },
      "outputs": [
        {
          "name": "stdout",
          "output_type": "stream",
          "text": [
            "[ True False  True  True  True  True  True  True False False  True False\n",
            " False  True]\n",
            "[0.8334657825347882, 0.49859062615184013, 0.9854265104709928, 0.5759116954566937, 0.6721299234368364, 0.8259269226170216, 0.7404152012561307, 0.6969615179333275, 0.2470964917991605, 0.1356815630111491, 0.6137289971567746, 0.40629833717591857, 0.3450132991755407, 0.6234441657544448]\n"
          ]
        }
      ],
      "source": [
        "#PRINT RESULTS AND SELECT THE FEATURES\n",
        "a = np.round(Best)\n",
        "feature_take_or_not = a > np.float32(0.5)\n",
        "\n",
        "print(feature_take_or_not)\n",
        "\n",
        "print(Best)\n",
        "\n",
        "true_number = np.array(np.unique(feature_take_or_not, return_counts=True)).T\n",
        "bestX = X_test[:, feature_take_or_not]\n",
        "\n",
        "X_train =   X_train[:, feature_take_or_not]\n",
        "X_test = X_test[:, feature_take_or_not]\n",
        "# X_train, X_test, y_train, y_test = train_test_split(bestX, y_test, test_size=0.2, random_state=42)\n",
        "# print(bestX.shape)\n",
        "# s = KNeighborsClassifier()\n",
        "# loocv = LeaveOneOut()\n",
        "# evaluation = cross_val_score(s, X_train, y_train,  cv=loocv)\n",
        "# print(\"Final Accuracy: %.6f%% (%.6f%%)\" % (evaluation.mean(), evaluation.std()))"
      ]
    },
    {
      "cell_type": "code",
      "execution_count": 20,
      "metadata": {},
      "outputs": [
        {
          "data": {
            "text/plain": [
              "(9,)"
            ]
          },
          "execution_count": 20,
          "metadata": {},
          "output_type": "execute_result"
        }
      ],
      "source": [
        "#SHOW NUMBER OF FEATURES SELECTED\n",
        "X_test[0].shape"
      ]
    },
    {
      "cell_type": "code",
      "execution_count": 22,
      "metadata": {
        "colab": {
          "base_uri": "https://localhost:8080/",
          "height": 396
        },
        "id": "TE7x7VqvgYXx",
        "outputId": "01c21e66-344a-4d67-d6ca-1c2f9d131f44"
      },
      "outputs": [
        {
          "name": "stdout",
          "output_type": "stream",
          "text": [
            "Generation = 1\n",
            "Fitness    = 0.3056333333333333\n",
            "Generation = 2\n",
            "Fitness    = 0.3056333333333333\n",
            "Generation = 3\n",
            "Fitness    = 0.3138444444444444\n",
            "Generation = 4\n",
            "Fitness    = 0.3537666666666667\n",
            "Generation = 5\n",
            "Fitness    = 0.3537666666666667\n",
            "Generation = 6\n",
            "Fitness    = 0.3537666666666667\n",
            "Generation = 7\n",
            "Fitness    = 0.4241\n",
            "Generation = 8\n",
            "Fitness    = 0.4241\n",
            "Generation = 9\n",
            "Fitness    = 0.4241\n",
            "Generation = 10\n",
            "Fitness    = 0.4241\n",
            "Generation = 11\n",
            "Fitness    = 0.4241\n",
            "Generation = 12\n",
            "Fitness    = 0.46445555555555557\n",
            "Generation = 13\n",
            "Fitness    = 0.46445555555555557\n",
            "Generation = 14\n",
            "Fitness    = 0.46445555555555557\n",
            "Generation = 15\n",
            "Fitness    = 0.46445555555555557\n",
            "Generation = 16\n",
            "Fitness    = 0.46445555555555557\n",
            "Generation = 17\n",
            "Fitness    = 0.46445555555555557\n",
            "Generation = 18\n",
            "Fitness    = 0.46445555555555557\n",
            "Generation = 19\n",
            "Fitness    = 0.46445555555555557\n",
            "Generation = 20\n",
            "Fitness    = 0.46445555555555557\n",
            "Generation = 21\n",
            "Fitness    = 0.46445555555555557\n",
            "Generation = 22\n",
            "Fitness    = 0.6189111111111111\n",
            "Generation = 23\n",
            "Fitness    = 0.6189111111111111\n",
            "Generation = 24\n",
            "Fitness    = 0.6189111111111111\n",
            "Generation = 25\n",
            "Fitness    = 0.6189111111111111\n",
            "Generation = 26\n",
            "Fitness    = 0.6189111111111111\n",
            "Generation = 27\n",
            "Fitness    = 0.6189111111111111\n",
            "Generation = 28\n",
            "Fitness    = 0.6189111111111111\n",
            "Generation = 29\n",
            "Fitness    = 0.6189111111111111\n",
            "Generation = 30\n",
            "Fitness    = 0.6189111111111111\n",
            "Generation = 31\n",
            "Fitness    = 0.6245333333333334\n",
            "Generation = 32\n",
            "Fitness    = 0.6245333333333334\n",
            "Generation = 33\n",
            "Fitness    = 0.7245444444444444\n",
            "Generation = 34\n",
            "Fitness    = 0.7245444444444444\n",
            "Generation = 35\n",
            "Fitness    = 0.7829777777777778\n",
            "Generation = 36\n",
            "Fitness    = 0.7829777777777778\n",
            "Generation = 37\n",
            "Fitness    = 0.7829777777777778\n",
            "Generation = 38\n",
            "Fitness    = 0.7829777777777778\n",
            "Generation = 39\n",
            "Fitness    = 0.8483111111111111\n",
            "Generation = 40\n",
            "Fitness    = 0.8483111111111111\n",
            "Generation = 41\n",
            "Fitness    = 0.8533555555555555\n",
            "Generation = 42\n",
            "Fitness    = 0.8533555555555555\n",
            "Generation = 43\n",
            "Fitness    = 0.8533555555555555\n",
            "Generation = 44\n",
            "Fitness    = 0.8878\n",
            "Generation = 45\n",
            "Fitness    = 0.8878\n",
            "Generation = 46\n",
            "Fitness    = 0.8878\n",
            "Generation = 47\n",
            "Fitness    = 0.8894222222222222\n",
            "Generation = 48\n",
            "Fitness    = 0.8894222222222222\n",
            "Generation = 49\n",
            "Fitness    = 0.9159777777777778\n",
            "Generation = 50\n",
            "Fitness    = 0.9159777777777778\n",
            "Generation = 51\n",
            "Fitness    = 0.9159777777777778\n",
            "Generation = 52\n",
            "Fitness    = 0.9159777777777778\n",
            "Generation = 53\n",
            "Fitness    = 0.9209333333333334\n",
            "Generation = 54\n",
            "Fitness    = 0.9209333333333334\n",
            "Generation = 55\n",
            "Fitness    = 0.9209333333333334\n",
            "Generation = 56\n",
            "Fitness    = 0.9209333333333334\n",
            "Generation = 57\n",
            "Fitness    = 0.9594222222222222\n",
            "Generation = 58\n",
            "Fitness    = 0.9594222222222222\n",
            "Generation = 59\n",
            "Fitness    = 0.9594222222222222\n",
            "Generation = 60\n",
            "Fitness    = 0.9594222222222222\n",
            "Generation = 61\n",
            "Fitness    = 0.9594222222222222\n",
            "Generation = 62\n",
            "Fitness    = 0.9594222222222222\n",
            "Generation = 63\n",
            "Fitness    = 0.9594222222222222\n",
            "Generation = 64\n",
            "Fitness    = 0.9594222222222222\n",
            "Generation = 65\n",
            "Fitness    = 0.9767888888888889\n",
            "Generation = 66\n",
            "Fitness    = 0.9767888888888889\n",
            "Generation = 67\n",
            "Fitness    = 0.9767888888888889\n",
            "Generation = 68\n",
            "Fitness    = 0.9767888888888889\n",
            "Generation = 69\n",
            "Fitness    = 0.9774777777777778\n",
            "Generation = 70\n",
            "Fitness    = 0.9774777777777778\n",
            "Generation = 71\n",
            "Fitness    = 0.9774777777777778\n",
            "Generation = 72\n",
            "Fitness    = 0.9774777777777778\n",
            "Generation = 73\n",
            "Fitness    = 0.9774777777777778\n",
            "Generation = 74\n",
            "Fitness    = 0.9785111111111111\n",
            "Generation = 75\n",
            "Fitness    = 0.9785111111111111\n",
            "Generation = 76\n",
            "Fitness    = 0.9869666666666667\n",
            "Generation = 77\n",
            "Fitness    = 0.9869666666666667\n",
            "Generation = 78\n",
            "Fitness    = 0.9869666666666667\n",
            "Generation = 79\n",
            "Fitness    = 0.9869666666666667\n",
            "Generation = 80\n",
            "Fitness    = 0.9869666666666667\n",
            "Generation = 81\n",
            "Fitness    = 0.9869666666666667\n",
            "Generation = 82\n",
            "Fitness    = 0.9869666666666667\n",
            "Generation = 83\n",
            "Fitness    = 0.9869666666666667\n",
            "Generation = 84\n",
            "Fitness    = 0.9872666666666666\n",
            "Generation = 85\n",
            "Fitness    = 0.9872666666666666\n",
            "Generation = 86\n",
            "Fitness    = 0.9872666666666666\n",
            "Generation = 87\n",
            "Fitness    = 0.9886666666666667\n",
            "Generation = 88\n",
            "Fitness    = 0.9886666666666667\n",
            "Generation = 89\n",
            "Fitness    = 0.9886666666666667\n",
            "Generation = 90\n",
            "Fitness    = 0.9886666666666667\n",
            "Generation = 91\n",
            "Fitness    = 0.9886666666666667\n",
            "Generation = 92\n",
            "Fitness    = 0.9886666666666667\n",
            "Generation = 93\n",
            "Fitness    = 0.9886666666666667\n",
            "Generation = 94\n",
            "Fitness    = 0.9886666666666667\n",
            "Generation = 95\n",
            "Fitness    = 0.9886666666666667\n",
            "Generation = 96\n",
            "Fitness    = 0.9886666666666667\n",
            "Generation = 97\n",
            "Fitness    = 0.9886666666666667\n",
            "Generation = 98\n",
            "Fitness    = 0.9886666666666667\n",
            "Generation = 99\n",
            "Fitness    = 0.9886666666666667\n",
            "Generation = 100\n",
            "Fitness    = 0.9886666666666667\n"
          ]
        }
      ],
      "source": [
        "# FF-NN-GA OPTIMIZED\n",
        "import tensorflow.keras\n",
        "from sklearn.metrics import accuracy_score\n",
        "\n",
        "\n",
        "data_inputs = X_test\n",
        "data_outputs = y_test\n",
        "\n",
        "input_layer  = tensorflow.keras.layers.Input(X_test[0].shape)\n",
        "dense_layer1 = tensorflow.keras.layers.Dense(5, activation=\"relu\")\n",
        "output_layer = tensorflow.keras.layers.Dense(1, activation=\"linear\")\n",
        "\n",
        "model = tensorflow.keras.Sequential()\n",
        "model.add(input_layer)\n",
        "model.add(dense_layer1)\n",
        "model.add(output_layer)\n",
        "\n",
        "import pygad.kerasga\n",
        "\n",
        "keras_ga = pygad.kerasga.KerasGA(model=model,\n",
        "                                 num_solutions=10)\n",
        "\n",
        "def fitness_func(solution, sol_idx):\n",
        "    global data_inputs, data_outputs, keras_ga, model\n",
        "\n",
        "    model_weights_matrix = pygad.kerasga.model_weights_as_matrix(model=model,\n",
        "                                                                 weights_vector=solution)\n",
        "\n",
        "    model.set_weights(weights=model_weights_matrix)\n",
        "\n",
        "    predictions = model.predict(data_inputs)\n",
        "    \n",
        "    # bce = tensorflow.keras.losses.BinaryCrossentropy()\n",
        "    # solution_fitness = 1.0 / (bce(data_outputs, predictions).numpy() + 0.00000001)\n",
        "    solution_fitness = accuracy_score(data_outputs, predictions.round())\n",
        "    return solution_fitness\n",
        "    \n",
        "def callback_generation(ga_instance):\n",
        "    print(\"Generation = {generation}\".format(generation=ga_instance.generations_completed))\n",
        "    print(\"Fitness    = {fitness}\".format(fitness=ga_instance.best_solution()[1]))\n",
        "\n",
        "num_generations = 100\n",
        "num_parents_mating = 5\n",
        "initial_population = keras_ga.population_weights\n",
        "\n",
        "ga_instance = pygad.GA(num_generations=num_generations, \n",
        "                       num_parents_mating=num_parents_mating, \n",
        "                       initial_population=initial_population,\n",
        "                       fitness_func=fitness_func,\n",
        "                       on_generation=callback_generation)\n",
        "ga_instance.run()\n"
      ]
    },
    {
      "cell_type": "code",
      "execution_count": 24,
      "metadata": {},
      "outputs": [
        {
          "name": "stdout",
          "output_type": "stream",
          "text": [
            "Parameters of the best solution : [ 0.16012648  0.53998415 -0.20161671  0.03519571  1.10676533  0.02463726\n",
            " -0.98327413  0.43427818 -0.05790838 -0.13326598  0.07897712  0.08946076\n",
            "  0.6105555   0.03852771 -1.28627449  1.23240266  1.71518604  0.17656509\n",
            "  0.07913293  0.00245304  0.39671922 -0.14415585  1.03384366  0.03919794\n",
            "  0.11975774  0.84523072  0.59521132  0.55457194 -0.01405078  2.215217\n",
            "  0.80504371 -0.9539565   0.66802588 -0.86990556 -1.48544088  0.31553414\n",
            "  1.01899104  1.89712281  0.66513635 -0.76760831  0.67897089  0.42196861\n",
            "  0.6305623   1.39222666 -0.50171152 -0.51965283 -0.72753014 -0.6065256\n",
            "  0.45040811 -0.22392461  0.15909187 -0.19074797 -0.16819614  0.7230328\n",
            "  0.0584896   0.06331481]\n",
            "Fitness value of the best solution = 0.9886666666666667\n"
          ]
        },
        {
          "data": {
            "image/png": "[encoded data removed]",
            "text/plain": [
              "<Figure size 432x288 with 1 Axes>"
            ]
          },
          "metadata": {
            "needs_background": "light"
          },
          "output_type": "display_data"
        },
        {
          "data": {
            "text/plain": [
              "56"
            ]
          },
          "execution_count": 24,
          "metadata": {},
          "output_type": "execute_result"
        }
      ],
      "source": [
        "# SHOW THE RESULTS OF THE SELECTION\n",
        "solution, solution_fitness, solution_idx = ga_instance.best_solution()\n",
        "print(\"Parameters of the best solution : {solution}\".format(solution=solution))\n",
        "print(\"Fitness value of the best solution = {solution_fitness}\".format(solution_fitness=solution_fitness))\n",
        "ga_instance.plot_fitness()\n",
        "len(solution)\n",
        "# prediction = np.sum(np.array(function_inputs)*solution)\n",
        "# print(\"Predicted output based on the best solution : {prediction}\".format(prediction=prediction))"
      ]
    },
    {
      "cell_type": "code",
      "execution_count": 1,
      "metadata": {
        "id": "SeNKkD0OTFCz",
        "outputId": "444bbe8a-b7e1-4234-ec87-81ae06021272"
      },
      "outputs": [
        {
          "ename": "NameError",
          "evalue": "name 'clf' is not defined",
          "output_type": "error",
          "traceback": [
            "\u001b[1;31m---------------------------------------------------------------------------\u001b[0m",
            "\u001b[1;31mNameError\u001b[0m                                 Traceback (most recent call last)",
            "\u001b[1;32m~\\AppData\\Local\\Temp/ipykernel_10964/533357445.py\u001b[0m in \u001b[0;36m<module>\u001b[1;34m\u001b[0m\n\u001b[1;32m----> 1\u001b[1;33m \u001b[0mclf\u001b[0m\u001b[1;33m.\u001b[0m\u001b[0mfit\u001b[0m\u001b[1;33m(\u001b[0m\u001b[0mX_train\u001b[0m\u001b[1;33m,\u001b[0m \u001b[0my_train\u001b[0m\u001b[1;33m)\u001b[0m\u001b[1;33m\u001b[0m\u001b[1;33m\u001b[0m\u001b[0m\n\u001b[0m",
            "\u001b[1;31mNameError\u001b[0m: name 'clf' is not defined"
          ]
        }
      ],
      "source": [
        "# FIT ORDINARY KNN MODEL\n",
        "clf.fit(X_train, y_train)\n"
      ]
    },
    {
      "cell_type": "code",
      "execution_count": 23,
      "metadata": {},
      "outputs": [
        {
          "data": {
            "text/plain": [
              "0.9998"
            ]
          },
          "execution_count": 23,
          "metadata": {},
          "output_type": "execute_result"
        }
      ],
      "source": [
        "#COMPUTE THE ACCURACY OF THE KNN \n",
        "y_pred = clf.predict(X_test)\n",
        "from sklearn.metrics import accuracy_score\n",
        "accuracy_score(y_test, y_pred)"
      ]
    },
    {
      "cell_type": "code",
      "execution_count": null,
      "metadata": {
        "id": "Q3-L7oAsiwbG",
        "outputId": "8af376f5-6592-4d80-e842-44e6a00389f6"
      },
      "outputs": [
        {
          "name": "stdout",
          "output_type": "stream",
          "text": [
            "Precision:  0.999749360870219\n",
            "Recall:  0.9999665741885885\n",
            "Accuracy:  0.9998111111111111\n",
            "Confusion Matrix : [[30151    15]\n",
            " [    2 59832]]\n"
          ]
        }
      ],
      "source": [
        "#OTHER METRICS OF THE  KNN MODEL\n",
        "from sklearn import metrics\n",
        "print(\"Precision: \",metrics.precision_score(y_test, y_pred))\n",
        "print(\"Recall: \",metrics.recall_score(y_test,y_pred))\n",
        "print(\"Accuracy: \",metrics.accuracy_score(y_test,y_pred))\n",
        "print(\"Confusion Matrix :\", metrics.confusion_matrix(y_test, y_pred))"
      ]
    },
    {
      "cell_type": "code",
      "execution_count": 2,
      "metadata": {
        "id": "ZGsgp7IEiwbL",
        "outputId": "da603e95-cb10-4131-9e65-48e16b92dd78"
      },
      "outputs": [
        {
          "ename": "NameError",
          "evalue": "name 'clf' is not defined",
          "output_type": "error",
          "traceback": [
            "\u001b[1;31m---------------------------------------------------------------------------\u001b[0m",
            "\u001b[1;31mNameError\u001b[0m                                 Traceback (most recent call last)",
            "\u001b[1;32m~\\AppData\\Local\\Temp/ipykernel_10964/2563523891.py\u001b[0m in \u001b[0;36m<module>\u001b[1;34m\u001b[0m\n\u001b[0;32m      1\u001b[0m \u001b[1;32mfrom\u001b[0m \u001b[0msklearn\u001b[0m\u001b[1;33m.\u001b[0m\u001b[0mmetrics\u001b[0m \u001b[1;32mimport\u001b[0m \u001b[0mPrecisionRecallDisplay\u001b[0m\u001b[1;33m\u001b[0m\u001b[1;33m\u001b[0m\u001b[0m\n\u001b[0;32m      2\u001b[0m display = PrecisionRecallDisplay.from_estimator(\n\u001b[1;32m----> 3\u001b[1;33m     \u001b[0mclf\u001b[0m\u001b[1;33m,\u001b[0m \u001b[0mX_test\u001b[0m\u001b[1;33m,\u001b[0m \u001b[0my_test\u001b[0m\u001b[1;33m,\u001b[0m \u001b[0mname\u001b[0m\u001b[1;33m=\u001b[0m\u001b[1;34m\"KNN classifier\"\u001b[0m\u001b[1;33m\u001b[0m\u001b[1;33m\u001b[0m\u001b[0m\n\u001b[0m\u001b[0;32m      4\u001b[0m )\n\u001b[0;32m      5\u001b[0m \u001b[0m_\u001b[0m \u001b[1;33m=\u001b[0m \u001b[0mdisplay\u001b[0m\u001b[1;33m.\u001b[0m\u001b[0max_\u001b[0m\u001b[1;33m.\u001b[0m\u001b[0mset_title\u001b[0m\u001b[1;33m(\u001b[0m\u001b[1;34m\"2-class Precision-Recall curve\"\u001b[0m\u001b[1;33m)\u001b[0m\u001b[1;33m\u001b[0m\u001b[1;33m\u001b[0m\u001b[0m\n",
            "\u001b[1;31mNameError\u001b[0m: name 'clf' is not defined"
          ]
        }
      ],
      "source": [
        "# Precision-Recall curve OF THE KNN\n",
        "from sklearn.metrics import PrecisionRecallDisplay\n",
        "display = PrecisionRecallDisplay.from_estimator(\n",
        "    clf, X_test, y_test, name=\"KNN classifier\"\n",
        ")\n",
        "_ = display.ax_.set_title(\"2-class Precision-Recall curve\")\n"
      ]
    },
    {
      "cell_type": "code",
      "execution_count": 27,
      "metadata": {
        "colab": {
          "base_uri": "https://localhost:8080/"
        },
        "id": "mKcN5garfjTG",
        "outputId": "a06e8f10-73f2-488b-826d-8ba79f69a6f2"
      },
      "outputs": [
        {
          "name": "stdout",
          "output_type": "stream",
          "text": [
            "Length of training set (210000, 14)\n",
            "Length of test set (90000, 14)\n"
          ]
        }
      ],
      "source": [
        "# X_train.shape\n",
        "# features = features[:, features_index]\n",
        "\n",
        "# features = OneHotEncoder().fit_transform(features)\n",
        "X_train, X_test, y_train, y_test = train_test_split(features, labels, test_size=0.3, shuffle= True)\n",
        "print('Length of training set', (X_train.shape))\n",
        "print('Length of test set', (X_test.shape))"
      ]
    },
    {
      "cell_type": "code",
      "execution_count": 24,
      "metadata": {
        "id": "1zHHW0xWkag5"
      },
      "outputs": [],
      "source": [
        "# ORDINARY NEURAL NETWORK.\n",
        "no_epochs = 10\n",
        "from tensorflow import keras as ks\n",
        "input_data_shape = X_train[0].shape\n",
        "input_data_shape\n",
        "hidden_activation_function = 'softsign'\n",
        "output_activation_function = 'sigmoid'\n",
        "nn_model = ks.models.Sequential()\n",
        "nn_model.add(ks.layers.Flatten(input_shape=(X_train.shape[1],), name='Input_layer'))\n",
        "# nn_model.add(ks.layers.Dense(13, activation=hidden_activation_function, name='Hidden_layer'))\n",
        "# nn_model.add(ks.layers.Dense(10, activation=hidden_activation_function, name='Hidden_layer2'))\n",
        "# nn_model.add(ks.layers.Dense(7, activation=hidden_activation_function, name='Hidden_layer3'))\n",
        "nn_model.add(ks.layers.Dense(3, activation=hidden_activation_function, name='Hidden_layer4'))\n",
        "# nn_model.add(ks.layers.Dense(2, activation=hidden_activation_function, name='Hidden_layer5'))\n",
        "nn_model.add(ks.layers.Dense(1, activation=output_activation_function, name='Output_Layer'))\n",
        "optimizer = 'adam'\n",
        "loss_function = 'binary_crossentropy'\n",
        "metricx = ['accuracy', ks.metrics.Recall(), ks.metrics.Precision()]\n",
        "nn_model.compile(optimizer=optimizer, loss=loss_function, metrics=metricx)\n"
      ]
    },
    {
      "cell_type": "code",
      "execution_count": 25,
      "metadata": {
        "id": "8Ptw0EkTtAvE"
      },
      "outputs": [
        {
          "name": "stdout",
          "output_type": "stream",
          "text": [
            "len of X_train 210000\n"
          ]
        }
      ],
      "source": [
        "print('len of X_train', len(X_train))"
      ]
    },
    {
      "cell_type": "code",
      "execution_count": 26,
      "metadata": {
        "colab": {
          "base_uri": "https://localhost:8080/",
          "height": 358
        },
        "id": "vPGeZNOjkxED",
        "outputId": "f2ae7807-2377-4601-82a9-75d898a20b2b"
      },
      "outputs": [
        {
          "name": "stdout",
          "output_type": "stream",
          "text": [
            "Epoch 1/10\n",
            "3809/6563 [================>.............] - ETA: 9s - loss: 0.6304 - accuracy: 0.6719 - recall: 0.9703 - precision: 0.6767"
          ]
        },
        {
          "ename": "KeyboardInterrupt",
          "evalue": "",
          "output_type": "error",
          "traceback": [
            "\u001b[1;31m---------------------------------------------------------------------------\u001b[0m",
            "\u001b[1;31mKeyboardInterrupt\u001b[0m                         Traceback (most recent call last)",
            "\u001b[1;32m~\\AppData\\Local\\Temp/ipykernel_16196/3898889795.py\u001b[0m in \u001b[0;36m<module>\u001b[1;34m\u001b[0m\n\u001b[1;32m----> 1\u001b[1;33m \u001b[0mhistory\u001b[0m \u001b[1;33m=\u001b[0m \u001b[0mnn_model\u001b[0m\u001b[1;33m.\u001b[0m\u001b[0mfit\u001b[0m\u001b[1;33m(\u001b[0m\u001b[0mX_train\u001b[0m\u001b[1;33m,\u001b[0m \u001b[0my_train\u001b[0m\u001b[1;33m,\u001b[0m \u001b[0mepochs\u001b[0m\u001b[1;33m=\u001b[0m\u001b[0mno_epochs\u001b[0m\u001b[1;33m,\u001b[0m \u001b[0mvalidation_data\u001b[0m\u001b[1;33m=\u001b[0m\u001b[1;33m(\u001b[0m\u001b[0mX_test\u001b[0m\u001b[1;33m,\u001b[0m\u001b[0my_test\u001b[0m\u001b[1;33m)\u001b[0m\u001b[1;33m)\u001b[0m\u001b[1;33m\u001b[0m\u001b[1;33m\u001b[0m\u001b[0m\n\u001b[0m\u001b[0;32m      2\u001b[0m \u001b[1;31m# nn_model.save('custom_model_1_epoch.h5')\u001b[0m\u001b[1;33m\u001b[0m\u001b[1;33m\u001b[0m\u001b[1;33m\u001b[0m\u001b[0m\n",
            "\u001b[1;32m~\\AppData\\Local\\Programs\\Python\\Python37\\lib\\site-packages\\keras\\utils\\traceback_utils.py\u001b[0m in \u001b[0;36merror_handler\u001b[1;34m(*args, **kwargs)\u001b[0m\n\u001b[0;32m     62\u001b[0m     \u001b[0mfiltered_tb\u001b[0m \u001b[1;33m=\u001b[0m \u001b[1;32mNone\u001b[0m\u001b[1;33m\u001b[0m\u001b[1;33m\u001b[0m\u001b[0m\n\u001b[0;32m     63\u001b[0m     \u001b[1;32mtry\u001b[0m\u001b[1;33m:\u001b[0m\u001b[1;33m\u001b[0m\u001b[1;33m\u001b[0m\u001b[0m\n\u001b[1;32m---> 64\u001b[1;33m       \u001b[1;32mreturn\u001b[0m \u001b[0mfn\u001b[0m\u001b[1;33m(\u001b[0m\u001b[1;33m*\u001b[0m\u001b[0margs\u001b[0m\u001b[1;33m,\u001b[0m \u001b[1;33m**\u001b[0m\u001b[0mkwargs\u001b[0m\u001b[1;33m)\u001b[0m\u001b[1;33m\u001b[0m\u001b[1;33m\u001b[0m\u001b[0m\n\u001b[0m\u001b[0;32m     65\u001b[0m     \u001b[1;32mexcept\u001b[0m \u001b[0mException\u001b[0m \u001b[1;32mas\u001b[0m \u001b[0me\u001b[0m\u001b[1;33m:\u001b[0m  \u001b[1;31m# pylint: disable=broad-except\u001b[0m\u001b[1;33m\u001b[0m\u001b[1;33m\u001b[0m\u001b[0m\n\u001b[0;32m     66\u001b[0m       \u001b[0mfiltered_tb\u001b[0m \u001b[1;33m=\u001b[0m \u001b[0m_process_traceback_frames\u001b[0m\u001b[1;33m(\u001b[0m\u001b[0me\u001b[0m\u001b[1;33m.\u001b[0m\u001b[0m__traceback__\u001b[0m\u001b[1;33m)\u001b[0m\u001b[1;33m\u001b[0m\u001b[1;33m\u001b[0m\u001b[0m\n",
            "\u001b[1;32m~\\AppData\\Local\\Programs\\Python\\Python37\\lib\\site-packages\\keras\\engine\\training.py\u001b[0m in \u001b[0;36mfit\u001b[1;34m(self, x, y, batch_size, epochs, verbose, callbacks, validation_split, validation_data, shuffle, class_weight, sample_weight, initial_epoch, steps_per_epoch, validation_steps, validation_batch_size, validation_freq, max_queue_size, workers, use_multiprocessing)\u001b[0m\n\u001b[0;32m   1214\u001b[0m                 _r=1):\n\u001b[0;32m   1215\u001b[0m               \u001b[0mcallbacks\u001b[0m\u001b[1;33m.\u001b[0m\u001b[0mon_train_batch_begin\u001b[0m\u001b[1;33m(\u001b[0m\u001b[0mstep\u001b[0m\u001b[1;33m)\u001b[0m\u001b[1;33m\u001b[0m\u001b[1;33m\u001b[0m\u001b[0m\n\u001b[1;32m-> 1216\u001b[1;33m               \u001b[0mtmp_logs\u001b[0m \u001b[1;33m=\u001b[0m \u001b[0mself\u001b[0m\u001b[1;33m.\u001b[0m\u001b[0mtrain_function\u001b[0m\u001b[1;33m(\u001b[0m\u001b[0miterator\u001b[0m\u001b[1;33m)\u001b[0m\u001b[1;33m\u001b[0m\u001b[1;33m\u001b[0m\u001b[0m\n\u001b[0m\u001b[0;32m   1217\u001b[0m               \u001b[1;32mif\u001b[0m \u001b[0mdata_handler\u001b[0m\u001b[1;33m.\u001b[0m\u001b[0mshould_sync\u001b[0m\u001b[1;33m:\u001b[0m\u001b[1;33m\u001b[0m\u001b[1;33m\u001b[0m\u001b[0m\n\u001b[0;32m   1218\u001b[0m                 \u001b[0mcontext\u001b[0m\u001b[1;33m.\u001b[0m\u001b[0masync_wait\u001b[0m\u001b[1;33m(\u001b[0m\u001b[1;33m)\u001b[0m\u001b[1;33m\u001b[0m\u001b[1;33m\u001b[0m\u001b[0m\n",
            "\u001b[1;32m~\\AppData\\Local\\Programs\\Python\\Python37\\lib\\site-packages\\tensorflow\\python\\util\\traceback_utils.py\u001b[0m in \u001b[0;36merror_handler\u001b[1;34m(*args, **kwargs)\u001b[0m\n\u001b[0;32m    148\u001b[0m     \u001b[0mfiltered_tb\u001b[0m \u001b[1;33m=\u001b[0m \u001b[1;32mNone\u001b[0m\u001b[1;33m\u001b[0m\u001b[1;33m\u001b[0m\u001b[0m\n\u001b[0;32m    149\u001b[0m     \u001b[1;32mtry\u001b[0m\u001b[1;33m:\u001b[0m\u001b[1;33m\u001b[0m\u001b[1;33m\u001b[0m\u001b[0m\n\u001b[1;32m--> 150\u001b[1;33m       \u001b[1;32mreturn\u001b[0m \u001b[0mfn\u001b[0m\u001b[1;33m(\u001b[0m\u001b[1;33m*\u001b[0m\u001b[0margs\u001b[0m\u001b[1;33m,\u001b[0m \u001b[1;33m**\u001b[0m\u001b[0mkwargs\u001b[0m\u001b[1;33m)\u001b[0m\u001b[1;33m\u001b[0m\u001b[1;33m\u001b[0m\u001b[0m\n\u001b[0m\u001b[0;32m    151\u001b[0m     \u001b[1;32mexcept\u001b[0m \u001b[0mException\u001b[0m \u001b[1;32mas\u001b[0m \u001b[0me\u001b[0m\u001b[1;33m:\u001b[0m\u001b[1;33m\u001b[0m\u001b[1;33m\u001b[0m\u001b[0m\n\u001b[0;32m    152\u001b[0m       \u001b[0mfiltered_tb\u001b[0m \u001b[1;33m=\u001b[0m \u001b[0m_process_traceback_frames\u001b[0m\u001b[1;33m(\u001b[0m\u001b[0me\u001b[0m\u001b[1;33m.\u001b[0m\u001b[0m__traceback__\u001b[0m\u001b[1;33m)\u001b[0m\u001b[1;33m\u001b[0m\u001b[1;33m\u001b[0m\u001b[0m\n",
            "\u001b[1;32m~\\AppData\\Local\\Programs\\Python\\Python37\\lib\\site-packages\\tensorflow\\python\\eager\\def_function.py\u001b[0m in \u001b[0;36m__call__\u001b[1;34m(self, *args, **kwds)\u001b[0m\n\u001b[0;32m    908\u001b[0m \u001b[1;33m\u001b[0m\u001b[0m\n\u001b[0;32m    909\u001b[0m       \u001b[1;32mwith\u001b[0m \u001b[0mOptionalXlaContext\u001b[0m\u001b[1;33m(\u001b[0m\u001b[0mself\u001b[0m\u001b[1;33m.\u001b[0m\u001b[0m_jit_compile\u001b[0m\u001b[1;33m)\u001b[0m\u001b[1;33m:\u001b[0m\u001b[1;33m\u001b[0m\u001b[1;33m\u001b[0m\u001b[0m\n\u001b[1;32m--> 910\u001b[1;33m         \u001b[0mresult\u001b[0m \u001b[1;33m=\u001b[0m \u001b[0mself\u001b[0m\u001b[1;33m.\u001b[0m\u001b[0m_call\u001b[0m\u001b[1;33m(\u001b[0m\u001b[1;33m*\u001b[0m\u001b[0margs\u001b[0m\u001b[1;33m,\u001b[0m \u001b[1;33m**\u001b[0m\u001b[0mkwds\u001b[0m\u001b[1;33m)\u001b[0m\u001b[1;33m\u001b[0m\u001b[1;33m\u001b[0m\u001b[0m\n\u001b[0m\u001b[0;32m    911\u001b[0m \u001b[1;33m\u001b[0m\u001b[0m\n\u001b[0;32m    912\u001b[0m       \u001b[0mnew_tracing_count\u001b[0m \u001b[1;33m=\u001b[0m \u001b[0mself\u001b[0m\u001b[1;33m.\u001b[0m\u001b[0mexperimental_get_tracing_count\u001b[0m\u001b[1;33m(\u001b[0m\u001b[1;33m)\u001b[0m\u001b[1;33m\u001b[0m\u001b[1;33m\u001b[0m\u001b[0m\n",
            "\u001b[1;32m~\\AppData\\Local\\Programs\\Python\\Python37\\lib\\site-packages\\tensorflow\\python\\eager\\def_function.py\u001b[0m in \u001b[0;36m_call\u001b[1;34m(self, *args, **kwds)\u001b[0m\n\u001b[0;32m    940\u001b[0m       \u001b[1;31m# In this case we have created variables on the first call, so we run the\u001b[0m\u001b[1;33m\u001b[0m\u001b[1;33m\u001b[0m\u001b[1;33m\u001b[0m\u001b[0m\n\u001b[0;32m    941\u001b[0m       \u001b[1;31m# defunned version which is guaranteed to never create variables.\u001b[0m\u001b[1;33m\u001b[0m\u001b[1;33m\u001b[0m\u001b[1;33m\u001b[0m\u001b[0m\n\u001b[1;32m--> 942\u001b[1;33m       \u001b[1;32mreturn\u001b[0m \u001b[0mself\u001b[0m\u001b[1;33m.\u001b[0m\u001b[0m_stateless_fn\u001b[0m\u001b[1;33m(\u001b[0m\u001b[1;33m*\u001b[0m\u001b[0margs\u001b[0m\u001b[1;33m,\u001b[0m \u001b[1;33m**\u001b[0m\u001b[0mkwds\u001b[0m\u001b[1;33m)\u001b[0m  \u001b[1;31m# pylint: disable=not-callable\u001b[0m\u001b[1;33m\u001b[0m\u001b[1;33m\u001b[0m\u001b[0m\n\u001b[0m\u001b[0;32m    943\u001b[0m     \u001b[1;32melif\u001b[0m \u001b[0mself\u001b[0m\u001b[1;33m.\u001b[0m\u001b[0m_stateful_fn\u001b[0m \u001b[1;32mis\u001b[0m \u001b[1;32mnot\u001b[0m \u001b[1;32mNone\u001b[0m\u001b[1;33m:\u001b[0m\u001b[1;33m\u001b[0m\u001b[1;33m\u001b[0m\u001b[0m\n\u001b[0;32m    944\u001b[0m       \u001b[1;31m# Release the lock early so that multiple threads can perform the call\u001b[0m\u001b[1;33m\u001b[0m\u001b[1;33m\u001b[0m\u001b[1;33m\u001b[0m\u001b[0m\n",
            "\u001b[1;32m~\\AppData\\Local\\Programs\\Python\\Python37\\lib\\site-packages\\tensorflow\\python\\eager\\function.py\u001b[0m in \u001b[0;36m__call__\u001b[1;34m(self, *args, **kwargs)\u001b[0m\n\u001b[0;32m   3129\u001b[0m        filtered_flat_args) = self._maybe_define_function(args, kwargs)\n\u001b[0;32m   3130\u001b[0m     return graph_function._call_flat(\n\u001b[1;32m-> 3131\u001b[1;33m         filtered_flat_args, captured_inputs=graph_function.captured_inputs)  # pylint: disable=protected-access\n\u001b[0m\u001b[0;32m   3132\u001b[0m \u001b[1;33m\u001b[0m\u001b[0m\n\u001b[0;32m   3133\u001b[0m   \u001b[1;33m@\u001b[0m\u001b[0mproperty\u001b[0m\u001b[1;33m\u001b[0m\u001b[1;33m\u001b[0m\u001b[0m\n",
            "\u001b[1;32m~\\AppData\\Local\\Programs\\Python\\Python37\\lib\\site-packages\\tensorflow\\python\\eager\\function.py\u001b[0m in \u001b[0;36m_call_flat\u001b[1;34m(self, args, captured_inputs, cancellation_manager)\u001b[0m\n\u001b[0;32m   1958\u001b[0m       \u001b[1;31m# No tape is watching; skip to running the function.\u001b[0m\u001b[1;33m\u001b[0m\u001b[1;33m\u001b[0m\u001b[1;33m\u001b[0m\u001b[0m\n\u001b[0;32m   1959\u001b[0m       return self._build_call_outputs(self._inference_function.call(\n\u001b[1;32m-> 1960\u001b[1;33m           ctx, args, cancellation_manager=cancellation_manager))\n\u001b[0m\u001b[0;32m   1961\u001b[0m     forward_backward = self._select_forward_and_backward_functions(\n\u001b[0;32m   1962\u001b[0m         \u001b[0margs\u001b[0m\u001b[1;33m,\u001b[0m\u001b[1;33m\u001b[0m\u001b[1;33m\u001b[0m\u001b[0m\n",
            "\u001b[1;32m~\\AppData\\Local\\Programs\\Python\\Python37\\lib\\site-packages\\tensorflow\\python\\eager\\function.py\u001b[0m in \u001b[0;36mcall\u001b[1;34m(self, ctx, args, cancellation_manager)\u001b[0m\n\u001b[0;32m    601\u001b[0m               \u001b[0minputs\u001b[0m\u001b[1;33m=\u001b[0m\u001b[0margs\u001b[0m\u001b[1;33m,\u001b[0m\u001b[1;33m\u001b[0m\u001b[1;33m\u001b[0m\u001b[0m\n\u001b[0;32m    602\u001b[0m               \u001b[0mattrs\u001b[0m\u001b[1;33m=\u001b[0m\u001b[0mattrs\u001b[0m\u001b[1;33m,\u001b[0m\u001b[1;33m\u001b[0m\u001b[1;33m\u001b[0m\u001b[0m\n\u001b[1;32m--> 603\u001b[1;33m               ctx=ctx)\n\u001b[0m\u001b[0;32m    604\u001b[0m         \u001b[1;32melse\u001b[0m\u001b[1;33m:\u001b[0m\u001b[1;33m\u001b[0m\u001b[1;33m\u001b[0m\u001b[0m\n\u001b[0;32m    605\u001b[0m           outputs = execute.execute_with_cancellation(\n",
            "\u001b[1;32m~\\AppData\\Local\\Programs\\Python\\Python37\\lib\\site-packages\\tensorflow\\python\\eager\\execute.py\u001b[0m in \u001b[0;36mquick_execute\u001b[1;34m(op_name, num_outputs, inputs, attrs, ctx, name)\u001b[0m\n\u001b[0;32m     57\u001b[0m     \u001b[0mctx\u001b[0m\u001b[1;33m.\u001b[0m\u001b[0mensure_initialized\u001b[0m\u001b[1;33m(\u001b[0m\u001b[1;33m)\u001b[0m\u001b[1;33m\u001b[0m\u001b[1;33m\u001b[0m\u001b[0m\n\u001b[0;32m     58\u001b[0m     tensors = pywrap_tfe.TFE_Py_Execute(ctx._handle, device_name, op_name,\n\u001b[1;32m---> 59\u001b[1;33m                                         inputs, attrs, num_outputs)\n\u001b[0m\u001b[0;32m     60\u001b[0m   \u001b[1;32mexcept\u001b[0m \u001b[0mcore\u001b[0m\u001b[1;33m.\u001b[0m\u001b[0m_NotOkStatusException\u001b[0m \u001b[1;32mas\u001b[0m \u001b[0me\u001b[0m\u001b[1;33m:\u001b[0m\u001b[1;33m\u001b[0m\u001b[1;33m\u001b[0m\u001b[0m\n\u001b[0;32m     61\u001b[0m     \u001b[1;32mif\u001b[0m \u001b[0mname\u001b[0m \u001b[1;32mis\u001b[0m \u001b[1;32mnot\u001b[0m \u001b[1;32mNone\u001b[0m\u001b[1;33m:\u001b[0m\u001b[1;33m\u001b[0m\u001b[1;33m\u001b[0m\u001b[0m\n",
            "\u001b[1;31mKeyboardInterrupt\u001b[0m: "
          ]
        }
      ],
      "source": [
        "# FIT THE NEURAL NETWORK\n",
        "history = nn_model.fit(X_train, y_train, epochs=no_epochs, validation_data=(X_test,y_test))\n",
        "# nn_model.save('custom_model_1_epoch.h5')\n"
      ]
    },
    {
      "cell_type": "code",
      "execution_count": 30,
      "metadata": {},
      "outputs": [
        {
          "ename": "ValueError",
          "evalue": "Classification metrics can't handle a mix of binary and continuous targets",
          "output_type": "error",
          "traceback": [
            "\u001b[1;31m---------------------------------------------------------------------------\u001b[0m",
            "\u001b[1;31mValueError\u001b[0m                                Traceback (most recent call last)",
            "\u001b[1;32m~\\AppData\\Local\\Temp/ipykernel_5976/2545376286.py\u001b[0m in \u001b[0;36m<module>\u001b[1;34m\u001b[0m\n\u001b[0;32m      1\u001b[0m \u001b[1;32mfrom\u001b[0m \u001b[0msklearn\u001b[0m \u001b[1;32mimport\u001b[0m \u001b[0mmetrics\u001b[0m\u001b[1;33m\u001b[0m\u001b[1;33m\u001b[0m\u001b[0m\n\u001b[0;32m      2\u001b[0m \u001b[0my_pred\u001b[0m \u001b[1;33m=\u001b[0m \u001b[0mnn_model\u001b[0m\u001b[1;33m.\u001b[0m\u001b[0mpredict\u001b[0m\u001b[1;33m(\u001b[0m\u001b[0mX_test\u001b[0m\u001b[1;33m)\u001b[0m\u001b[1;33m\u001b[0m\u001b[1;33m\u001b[0m\u001b[0m\n\u001b[1;32m----> 3\u001b[1;33m \u001b[0mprint\u001b[0m\u001b[1;33m(\u001b[0m\u001b[1;34m\"Precision: \"\u001b[0m\u001b[1;33m,\u001b[0m\u001b[0mmetrics\u001b[0m\u001b[1;33m.\u001b[0m\u001b[0mprecision_score\u001b[0m\u001b[1;33m(\u001b[0m\u001b[0my_test\u001b[0m\u001b[1;33m,\u001b[0m \u001b[0my_pred\u001b[0m\u001b[1;33m)\u001b[0m\u001b[1;33m)\u001b[0m\u001b[1;33m\u001b[0m\u001b[1;33m\u001b[0m\u001b[0m\n\u001b[0m\u001b[0;32m      4\u001b[0m \u001b[0mprint\u001b[0m\u001b[1;33m(\u001b[0m\u001b[1;34m\"Recall: \"\u001b[0m\u001b[1;33m,\u001b[0m\u001b[0mmetrics\u001b[0m\u001b[1;33m.\u001b[0m\u001b[0mrecall_score\u001b[0m\u001b[1;33m(\u001b[0m\u001b[0my_test\u001b[0m\u001b[1;33m,\u001b[0m\u001b[0my_pred\u001b[0m\u001b[1;33m,\u001b[0m \u001b[0maverage\u001b[0m \u001b[1;33m=\u001b[0m \u001b[1;34m'macro'\u001b[0m\u001b[1;33m)\u001b[0m\u001b[1;33m)\u001b[0m\u001b[1;33m\u001b[0m\u001b[1;33m\u001b[0m\u001b[0m\n\u001b[0;32m      5\u001b[0m \u001b[0mprint\u001b[0m\u001b[1;33m(\u001b[0m\u001b[1;34m\"Accuracy: \"\u001b[0m\u001b[1;33m,\u001b[0m\u001b[0mmetrics\u001b[0m\u001b[1;33m.\u001b[0m\u001b[0maccuracy_score\u001b[0m\u001b[1;33m(\u001b[0m\u001b[0my_test\u001b[0m\u001b[1;33m,\u001b[0m\u001b[0my_pred\u001b[0m\u001b[1;33m)\u001b[0m\u001b[1;33m)\u001b[0m\u001b[1;33m\u001b[0m\u001b[1;33m\u001b[0m\u001b[0m\n",
            "\u001b[1;32m~\\AppData\\Local\\Programs\\Python\\Python37\\lib\\site-packages\\sklearn\\metrics\\_classification.py\u001b[0m in \u001b[0;36mprecision_score\u001b[1;34m(y_true, y_pred, labels, pos_label, average, sample_weight, zero_division)\u001b[0m\n\u001b[0;32m   1744\u001b[0m         \u001b[0mwarn_for\u001b[0m\u001b[1;33m=\u001b[0m\u001b[1;33m(\u001b[0m\u001b[1;34m\"precision\"\u001b[0m\u001b[1;33m,\u001b[0m\u001b[1;33m)\u001b[0m\u001b[1;33m,\u001b[0m\u001b[1;33m\u001b[0m\u001b[1;33m\u001b[0m\u001b[0m\n\u001b[0;32m   1745\u001b[0m         \u001b[0msample_weight\u001b[0m\u001b[1;33m=\u001b[0m\u001b[0msample_weight\u001b[0m\u001b[1;33m,\u001b[0m\u001b[1;33m\u001b[0m\u001b[1;33m\u001b[0m\u001b[0m\n\u001b[1;32m-> 1746\u001b[1;33m         \u001b[0mzero_division\u001b[0m\u001b[1;33m=\u001b[0m\u001b[0mzero_division\u001b[0m\u001b[1;33m,\u001b[0m\u001b[1;33m\u001b[0m\u001b[1;33m\u001b[0m\u001b[0m\n\u001b[0m\u001b[0;32m   1747\u001b[0m     )\n\u001b[0;32m   1748\u001b[0m     \u001b[1;32mreturn\u001b[0m \u001b[0mp\u001b[0m\u001b[1;33m\u001b[0m\u001b[1;33m\u001b[0m\u001b[0m\n",
            "\u001b[1;32m~\\AppData\\Local\\Programs\\Python\\Python37\\lib\\site-packages\\sklearn\\metrics\\_classification.py\u001b[0m in \u001b[0;36mprecision_recall_fscore_support\u001b[1;34m(y_true, y_pred, beta, labels, pos_label, average, warn_for, sample_weight, zero_division)\u001b[0m\n\u001b[0;32m   1532\u001b[0m     \u001b[1;32mif\u001b[0m \u001b[0mbeta\u001b[0m \u001b[1;33m<\u001b[0m \u001b[1;36m0\u001b[0m\u001b[1;33m:\u001b[0m\u001b[1;33m\u001b[0m\u001b[1;33m\u001b[0m\u001b[0m\n\u001b[0;32m   1533\u001b[0m         \u001b[1;32mraise\u001b[0m \u001b[0mValueError\u001b[0m\u001b[1;33m(\u001b[0m\u001b[1;34m\"beta should be >=0 in the F-beta score\"\u001b[0m\u001b[1;33m)\u001b[0m\u001b[1;33m\u001b[0m\u001b[1;33m\u001b[0m\u001b[0m\n\u001b[1;32m-> 1534\u001b[1;33m     \u001b[0mlabels\u001b[0m \u001b[1;33m=\u001b[0m \u001b[0m_check_set_wise_labels\u001b[0m\u001b[1;33m(\u001b[0m\u001b[0my_true\u001b[0m\u001b[1;33m,\u001b[0m \u001b[0my_pred\u001b[0m\u001b[1;33m,\u001b[0m \u001b[0maverage\u001b[0m\u001b[1;33m,\u001b[0m \u001b[0mlabels\u001b[0m\u001b[1;33m,\u001b[0m \u001b[0mpos_label\u001b[0m\u001b[1;33m)\u001b[0m\u001b[1;33m\u001b[0m\u001b[1;33m\u001b[0m\u001b[0m\n\u001b[0m\u001b[0;32m   1535\u001b[0m \u001b[1;33m\u001b[0m\u001b[0m\n\u001b[0;32m   1536\u001b[0m     \u001b[1;31m# Calculate tp_sum, pred_sum, true_sum ###\u001b[0m\u001b[1;33m\u001b[0m\u001b[1;33m\u001b[0m\u001b[1;33m\u001b[0m\u001b[0m\n",
            "\u001b[1;32m~\\AppData\\Local\\Programs\\Python\\Python37\\lib\\site-packages\\sklearn\\metrics\\_classification.py\u001b[0m in \u001b[0;36m_check_set_wise_labels\u001b[1;34m(y_true, y_pred, average, labels, pos_label)\u001b[0m\n\u001b[0;32m   1336\u001b[0m         \u001b[1;32mraise\u001b[0m \u001b[0mValueError\u001b[0m\u001b[1;33m(\u001b[0m\u001b[1;34m\"average has to be one of \"\u001b[0m \u001b[1;33m+\u001b[0m \u001b[0mstr\u001b[0m\u001b[1;33m(\u001b[0m\u001b[0maverage_options\u001b[0m\u001b[1;33m)\u001b[0m\u001b[1;33m)\u001b[0m\u001b[1;33m\u001b[0m\u001b[1;33m\u001b[0m\u001b[0m\n\u001b[0;32m   1337\u001b[0m \u001b[1;33m\u001b[0m\u001b[0m\n\u001b[1;32m-> 1338\u001b[1;33m     \u001b[0my_type\u001b[0m\u001b[1;33m,\u001b[0m \u001b[0my_true\u001b[0m\u001b[1;33m,\u001b[0m \u001b[0my_pred\u001b[0m \u001b[1;33m=\u001b[0m \u001b[0m_check_targets\u001b[0m\u001b[1;33m(\u001b[0m\u001b[0my_true\u001b[0m\u001b[1;33m,\u001b[0m \u001b[0my_pred\u001b[0m\u001b[1;33m)\u001b[0m\u001b[1;33m\u001b[0m\u001b[1;33m\u001b[0m\u001b[0m\n\u001b[0m\u001b[0;32m   1339\u001b[0m     \u001b[1;31m# Convert to Python primitive type to avoid NumPy type / Python str\u001b[0m\u001b[1;33m\u001b[0m\u001b[1;33m\u001b[0m\u001b[1;33m\u001b[0m\u001b[0m\n\u001b[0;32m   1340\u001b[0m     \u001b[1;31m# comparison. See https://github.com/numpy/numpy/issues/6784\u001b[0m\u001b[1;33m\u001b[0m\u001b[1;33m\u001b[0m\u001b[1;33m\u001b[0m\u001b[0m\n",
            "\u001b[1;32m~\\AppData\\Local\\Programs\\Python\\Python37\\lib\\site-packages\\sklearn\\metrics\\_classification.py\u001b[0m in \u001b[0;36m_check_targets\u001b[1;34m(y_true, y_pred)\u001b[0m\n\u001b[0;32m     93\u001b[0m         raise ValueError(\n\u001b[0;32m     94\u001b[0m             \"Classification metrics can't handle a mix of {0} and {1} targets\".format(\n\u001b[1;32m---> 95\u001b[1;33m                 \u001b[0mtype_true\u001b[0m\u001b[1;33m,\u001b[0m \u001b[0mtype_pred\u001b[0m\u001b[1;33m\u001b[0m\u001b[1;33m\u001b[0m\u001b[0m\n\u001b[0m\u001b[0;32m     96\u001b[0m             )\n\u001b[0;32m     97\u001b[0m         )\n",
            "\u001b[1;31mValueError\u001b[0m: Classification metrics can't handle a mix of binary and continuous targets"
          ]
        }
      ],
      "source": [
        "# OTH METRICS FOR THE NEURAL NETWORK.\n",
        "from sklearn import metrics\n",
        "y_pred = nn_model.predict(X_test)\n",
        "print(\"Precision: \",metrics.precision_score(y_test, y_pred, average = 'macro'))\n",
        "print(\"Recall: \",metrics.recall_score(y_test,y_pred, average = 'macro'))\n",
        "print(\"Accuracy: \",metrics.accuracy_score(y_test,y_pred))\n",
        "print(\"Confusion Matrix :\", metrics.confusion_matrix(y_test, y_pred))"
      ]
    },
    {
      "cell_type": "code",
      "execution_count": null,
      "metadata": {
        "colab": {
          "base_uri": "https://localhost:8080/",
          "height": 244
        },
        "id": "quTchNUZaJMO",
        "outputId": "d62d4c5d-171e-4f36-e07f-f745ac248160"
      },
      "outputs": [
        {
          "ename": "NameError",
          "evalue": "ignored",
          "output_type": "error",
          "traceback": [
            "\u001b[0;31m---------------------------------------------------------------------------\u001b[0m",
            "\u001b[0;31mNameError\u001b[0m                                 Traceback (most recent call last)",
            "\u001b[0;32m<ipython-input-37-a0dfa281fa7b>\u001b[0m in \u001b[0;36m<module>\u001b[0;34m()\u001b[0m\n\u001b[1;32m      1\u001b[0m \u001b[0;32mfrom\u001b[0m \u001b[0msklearn\u001b[0m\u001b[0;34m.\u001b[0m\u001b[0mmetrics\u001b[0m \u001b[0;32mimport\u001b[0m \u001b[0maverage_precision_score\u001b[0m\u001b[0;34m\u001b[0m\u001b[0;34m\u001b[0m\u001b[0m\n\u001b[0;32m----> 2\u001b[0;31m \u001b[0maverage_precision\u001b[0m \u001b[0;34m=\u001b[0m \u001b[0maverage_precision_score\u001b[0m\u001b[0;34m(\u001b[0m\u001b[0my_test\u001b[0m\u001b[0;34m,\u001b[0m \u001b[0my_score\u001b[0m\u001b[0;34m)\u001b[0m\u001b[0;34m\u001b[0m\u001b[0;34m\u001b[0m\u001b[0m\n\u001b[0m\u001b[1;32m      3\u001b[0m \u001b[0;34m\u001b[0m\u001b[0m\n\u001b[1;32m      4\u001b[0m print('Average precision-recall score: {0:0.2f}'.format(\n\u001b[1;32m      5\u001b[0m       average_precision))\n",
            "\u001b[0;31mNameError\u001b[0m: name 'y_score' is not defined"
          ]
        }
      ],
      "source": [
        "from sklearn.metrics import average_precision_score\n",
        "average_precision = average_precision_score(y_true, y_pred)\n",
        "\n",
        "print('Average precision-recall score: {0:0.2f}'.format(\n",
        "      average_precision))\n",
        "\n",
        "from sklearn.metrics import precision_recall_curve\n",
        "from sklearn.metrics import plot_precision_recall_curve\n",
        "import matplotlib.pyplot as plt\n",
        "\n",
        "disp = plot_precision_recall_curve(nn_model, X_test, y_test)\n",
        "disp.ax_.set_title('2-class Precision-Recall curve: '\n",
        "                   'AP={0:0.2f}'.format(average_precision))"
      ]
    },
    {
      "cell_type": "code",
      "execution_count": 39,
      "metadata": {
        "id": "lxufTZe2llx6"
      },
      "outputs": [
        {
          "name": "stdout",
          "output_type": "stream",
          "text": [
            "[[0.]\n",
            " [1.]\n",
            " [1.]\n",
            " [0.]\n",
            " [0.]\n",
            " [1.]\n",
            " [1.]\n",
            " [1.]\n",
            " [1.]\n",
            " [1.]\n",
            " [0.]\n",
            " [1.]\n",
            " [1.]\n",
            " [1.]\n",
            " [1.]\n",
            " [0.]\n",
            " [0.]\n",
            " [0.]\n",
            " [1.]\n",
            " [1.]\n",
            " [1.]\n",
            " [1.]\n",
            " [1.]\n",
            " [0.]\n",
            " [1.]]\n",
            "21920     0\n",
            "122534    1\n",
            "222118    1\n",
            "14037     0\n",
            "82368     0\n",
            "249937    1\n",
            "295624    1\n",
            "177967    1\n",
            "206998    1\n",
            "176244    1\n",
            "56879     0\n",
            "263371    1\n",
            "254118    1\n",
            "193133    1\n",
            "158576    1\n",
            "45478     0\n",
            "50653     0\n",
            "15097     0\n",
            "234918    1\n",
            "119315    1\n",
            "296189    1\n",
            "140248    1\n",
            "170300    1\n",
            "14093     0\n",
            "289095    1\n",
            "Name: target, dtype: int64\n"
          ]
        }
      ],
      "source": [
        "# nn_model.save('custom_model_1_epoch.h5')\n",
        "from sklearn import metrics\n",
        "y_pred = nn_model.predict(X_test)\n",
        "print(y_pred.round()[75:100])\n",
        "print(y_test[75:100])\n",
        "# print(y_test)\n",
        "# print(\"Precision:\",metrics.precision_score(y_test, y_pred.round().astype(int).argmax(axis=1), average = 'macro'))\n",
        "# print(\"Recall:\",metrics.recall_score(y_test,y_pred.round().astype(int).argmax(axis=1), average = 'macro'))\n",
        "# print(\"Accuracy:\",metrics.accuracy_score(y_test, y_pred.round().astype(int).argmax(axis=1)))"
      ]
    },
    {
      "cell_type": "code",
      "execution_count": 41,
      "metadata": {
        "colab": {
          "base_uri": "https://localhost:8080/"
        },
        "id": "Ksdqf9ZIi5rf",
        "outputId": "52479da3-61b1-4298-eb2a-e7644ffca12c"
      },
      "outputs": [
        {
          "data": {
            "text/plain": [
              "dict_keys(['loss', 'accuracy', 'recall_2', 'precision_2', 'val_loss', 'val_accuracy', 'val_recall_2', 'val_precision_2'])"
            ]
          },
          "execution_count": 41,
          "metadata": {},
          "output_type": "execute_result"
        }
      ],
      "source": [
        "history.history.keys()"
      ]
    },
    {
      "cell_type": "code",
      "execution_count": 48,
      "metadata": {
        "colab": {
          "base_uri": "https://localhost:8080/",
          "height": 295
        },
        "id": "uNM-Uj8w2PWn",
        "outputId": "647f4931-5708-4c26-a0ad-f2c207d01379"
      },
      "outputs": [
        {
          "data": {
            "image/png": "[encoded data removed]",
            "text/plain": [
              "<Figure size 432x288 with 1 Axes>"
            ]
          },
          "metadata": {
            "needs_background": "light"
          },
          "output_type": "display_data"
        }
      ],
      "source": [
        "import matplotlib.pyplot as plt\n",
        "\n",
        "loss_train = history.history['recall_2']\n",
        "loss_val = history.history['val_recall_2']\n",
        "epochs = range(1,no_epochs+1)\n",
        "plt.plot(epochs, loss_train, 'g', label='Training Recall')\n",
        "plt.plot(epochs, loss_val, 'b', label='Recall')\n",
        "plt.title('Precision Vs Recall')\n",
        "plt.xlabel('Epochs')\n",
        "plt.ylabel('Loss')\n",
        "plt.legend()\n",
        "plt.show()"
      ]
    },
    {
      "cell_type": "code",
      "execution_count": null,
      "metadata": {
        "colab": {
          "base_uri": "https://localhost:8080/",
          "height": 295
        },
        "id": "VU1HBD38cryX",
        "outputId": "99c2ef29-528c-41e1-d36b-4a8b2b70cb1f"
      },
      "outputs": [
        {
          "data": {
            "image/png": "[encoded data removed]",
            "text/plain": [
              "<Figure size 432x288 with 1 Axes>"
            ]
          },
          "metadata": {
            "needs_background": "light"
          },
          "output_type": "display_data"
        }
      ],
      "source": [
        "import matplotlib.pyplot as plt\n",
        "\n",
        "loss_train = history.history['accuracy']\n",
        "loss_val = history.history['val_accuracy']\n",
        "epochs = range(1,30+1)\n",
        "plt.plot(epochs, loss_train, 'g', label='Training accuracy')\n",
        "plt.plot(epochs, loss_val, 'b', label='validation accuracy')\n",
        "plt.title('Training and Validation loss')\n",
        "plt.xlabel('Epochs')\n",
        "plt.ylabel('Accuracy')\n",
        "plt.legend()\n",
        "plt.show()"
      ]
    },
    {
      "cell_type": "code",
      "execution_count": null,
      "metadata": {
        "colab": {
          "base_uri": "https://localhost:8080/",
          "height": 376
        },
        "id": "EYxnEA8YsQVi",
        "outputId": "a7c7531c-f6f7-4655-dc7e-431001ca3452"
      },
      "outputs": [
        {
          "ename": "ValueError",
          "evalue": "ignored",
          "output_type": "error",
          "traceback": [
            "\u001b[0;31m---------------------------------------------------------------------------\u001b[0m",
            "\u001b[0;31mValueError\u001b[0m                                Traceback (most recent call last)",
            "\u001b[0;32m<ipython-input-16-3e8cdb917953>\u001b[0m in \u001b[0;36m<module>\u001b[0;34m()\u001b[0m\n\u001b[0;32m----> 1\u001b[0;31m \u001b[0my_pred\u001b[0m \u001b[0;34m=\u001b[0m \u001b[0mnn_model\u001b[0m\u001b[0;34m.\u001b[0m\u001b[0mpredict\u001b[0m\u001b[0;34m(\u001b[0m\u001b[0mX_test\u001b[0m\u001b[0;34m)\u001b[0m\u001b[0;34m\u001b[0m\u001b[0;34m\u001b[0m\u001b[0m\n\u001b[0m\u001b[1;32m      2\u001b[0m \u001b[0;34m[\u001b[0m\u001b[0mi\u001b[0m \u001b[0;32mfor\u001b[0m \u001b[0mi\u001b[0m \u001b[0;32min\u001b[0m \u001b[0my_pred\u001b[0m\u001b[0;34m]\u001b[0m\u001b[0;34m\u001b[0m\u001b[0;34m\u001b[0m\u001b[0m\n\u001b[1;32m      3\u001b[0m \u001b[0;31m# accuracy_score(y_test, )\u001b[0m\u001b[0;34m\u001b[0m\u001b[0;34m\u001b[0m\u001b[0;34m\u001b[0m\u001b[0m\n",
            "\u001b[0;32m/usr/local/lib/python3.7/dist-packages/tensorflow_core/python/keras/engine/training.py\u001b[0m in \u001b[0;36mpredict\u001b[0;34m(self, x, batch_size, verbose, steps, callbacks, max_queue_size, workers, use_multiprocessing)\u001b[0m\n\u001b[1;32m   1011\u001b[0m         \u001b[0mmax_queue_size\u001b[0m\u001b[0;34m=\u001b[0m\u001b[0mmax_queue_size\u001b[0m\u001b[0;34m,\u001b[0m\u001b[0;34m\u001b[0m\u001b[0;34m\u001b[0m\u001b[0m\n\u001b[1;32m   1012\u001b[0m         \u001b[0mworkers\u001b[0m\u001b[0;34m=\u001b[0m\u001b[0mworkers\u001b[0m\u001b[0;34m,\u001b[0m\u001b[0;34m\u001b[0m\u001b[0;34m\u001b[0m\u001b[0m\n\u001b[0;32m-> 1013\u001b[0;31m         use_multiprocessing=use_multiprocessing)\n\u001b[0m\u001b[1;32m   1014\u001b[0m \u001b[0;34m\u001b[0m\u001b[0m\n\u001b[1;32m   1015\u001b[0m   \u001b[0;32mdef\u001b[0m \u001b[0mreset_metrics\u001b[0m\u001b[0;34m(\u001b[0m\u001b[0mself\u001b[0m\u001b[0;34m)\u001b[0m\u001b[0;34m:\u001b[0m\u001b[0;34m\u001b[0m\u001b[0;34m\u001b[0m\u001b[0m\n",
            "\u001b[0;32m/usr/local/lib/python3.7/dist-packages/tensorflow_core/python/keras/engine/training_v2.py\u001b[0m in \u001b[0;36mpredict\u001b[0;34m(self, model, x, batch_size, verbose, steps, callbacks, max_queue_size, workers, use_multiprocessing, **kwargs)\u001b[0m\n\u001b[1;32m    496\u001b[0m         \u001b[0mmodel\u001b[0m\u001b[0;34m,\u001b[0m \u001b[0mModeKeys\u001b[0m\u001b[0;34m.\u001b[0m\u001b[0mPREDICT\u001b[0m\u001b[0;34m,\u001b[0m \u001b[0mx\u001b[0m\u001b[0;34m=\u001b[0m\u001b[0mx\u001b[0m\u001b[0;34m,\u001b[0m \u001b[0mbatch_size\u001b[0m\u001b[0;34m=\u001b[0m\u001b[0mbatch_size\u001b[0m\u001b[0;34m,\u001b[0m \u001b[0mverbose\u001b[0m\u001b[0;34m=\u001b[0m\u001b[0mverbose\u001b[0m\u001b[0;34m,\u001b[0m\u001b[0;34m\u001b[0m\u001b[0;34m\u001b[0m\u001b[0m\n\u001b[1;32m    497\u001b[0m         \u001b[0msteps\u001b[0m\u001b[0;34m=\u001b[0m\u001b[0msteps\u001b[0m\u001b[0;34m,\u001b[0m \u001b[0mcallbacks\u001b[0m\u001b[0;34m=\u001b[0m\u001b[0mcallbacks\u001b[0m\u001b[0;34m,\u001b[0m \u001b[0mmax_queue_size\u001b[0m\u001b[0;34m=\u001b[0m\u001b[0mmax_queue_size\u001b[0m\u001b[0;34m,\u001b[0m\u001b[0;34m\u001b[0m\u001b[0;34m\u001b[0m\u001b[0m\n\u001b[0;32m--> 498\u001b[0;31m         workers=workers, use_multiprocessing=use_multiprocessing, **kwargs)\n\u001b[0m\u001b[1;32m    499\u001b[0m \u001b[0;34m\u001b[0m\u001b[0m\n\u001b[1;32m    500\u001b[0m \u001b[0;34m\u001b[0m\u001b[0m\n",
            "\u001b[0;32m/usr/local/lib/python3.7/dist-packages/tensorflow_core/python/keras/engine/training_v2.py\u001b[0m in \u001b[0;36m_model_iteration\u001b[0;34m(self, model, mode, x, y, batch_size, verbose, sample_weight, steps, callbacks, max_queue_size, workers, use_multiprocessing, **kwargs)\u001b[0m\n\u001b[1;32m    424\u001b[0m           \u001b[0mmax_queue_size\u001b[0m\u001b[0;34m=\u001b[0m\u001b[0mmax_queue_size\u001b[0m\u001b[0;34m,\u001b[0m\u001b[0;34m\u001b[0m\u001b[0;34m\u001b[0m\u001b[0m\n\u001b[1;32m    425\u001b[0m           \u001b[0mworkers\u001b[0m\u001b[0;34m=\u001b[0m\u001b[0mworkers\u001b[0m\u001b[0;34m,\u001b[0m\u001b[0;34m\u001b[0m\u001b[0;34m\u001b[0m\u001b[0m\n\u001b[0;32m--> 426\u001b[0;31m           use_multiprocessing=use_multiprocessing)\n\u001b[0m\u001b[1;32m    427\u001b[0m       \u001b[0mtotal_samples\u001b[0m \u001b[0;34m=\u001b[0m \u001b[0m_get_total_number_of_samples\u001b[0m\u001b[0;34m(\u001b[0m\u001b[0madapter\u001b[0m\u001b[0;34m)\u001b[0m\u001b[0;34m\u001b[0m\u001b[0;34m\u001b[0m\u001b[0m\n\u001b[1;32m    428\u001b[0m       \u001b[0muse_sample\u001b[0m \u001b[0;34m=\u001b[0m \u001b[0mtotal_samples\u001b[0m \u001b[0;32mis\u001b[0m \u001b[0;32mnot\u001b[0m \u001b[0;32mNone\u001b[0m\u001b[0;34m\u001b[0m\u001b[0;34m\u001b[0m\u001b[0m\n",
            "\u001b[0;32m/usr/local/lib/python3.7/dist-packages/tensorflow_core/python/keras/engine/training_v2.py\u001b[0m in \u001b[0;36m_process_inputs\u001b[0;34m(model, mode, x, y, batch_size, epochs, sample_weights, class_weights, shuffle, steps, distribution_strategy, max_queue_size, workers, use_multiprocessing)\u001b[0m\n\u001b[1;32m    644\u001b[0m     \u001b[0mstandardize_function\u001b[0m \u001b[0;34m=\u001b[0m \u001b[0;32mNone\u001b[0m\u001b[0;34m\u001b[0m\u001b[0;34m\u001b[0m\u001b[0m\n\u001b[1;32m    645\u001b[0m     x, y, sample_weights = standardize(\n\u001b[0;32m--> 646\u001b[0;31m         x, y, sample_weight=sample_weights)\n\u001b[0m\u001b[1;32m    647\u001b[0m   \u001b[0;32melif\u001b[0m \u001b[0madapter_cls\u001b[0m \u001b[0;32mis\u001b[0m \u001b[0mdata_adapter\u001b[0m\u001b[0;34m.\u001b[0m\u001b[0mListsOfScalarsDataAdapter\u001b[0m\u001b[0;34m:\u001b[0m\u001b[0;34m\u001b[0m\u001b[0;34m\u001b[0m\u001b[0m\n\u001b[1;32m    648\u001b[0m     \u001b[0mstandardize_function\u001b[0m \u001b[0;34m=\u001b[0m \u001b[0mstandardize\u001b[0m\u001b[0;34m\u001b[0m\u001b[0;34m\u001b[0m\u001b[0m\n",
            "\u001b[0;32m/usr/local/lib/python3.7/dist-packages/tensorflow_core/python/keras/engine/training.py\u001b[0m in \u001b[0;36m_standardize_user_data\u001b[0;34m(self, x, y, sample_weight, class_weight, batch_size, check_steps, steps_name, steps, validation_split, shuffle, extract_tensors_from_dataset)\u001b[0m\n\u001b[1;32m   2381\u001b[0m         \u001b[0mis_dataset\u001b[0m\u001b[0;34m=\u001b[0m\u001b[0mis_dataset\u001b[0m\u001b[0;34m,\u001b[0m\u001b[0;34m\u001b[0m\u001b[0;34m\u001b[0m\u001b[0m\n\u001b[1;32m   2382\u001b[0m         \u001b[0mclass_weight\u001b[0m\u001b[0;34m=\u001b[0m\u001b[0mclass_weight\u001b[0m\u001b[0;34m,\u001b[0m\u001b[0;34m\u001b[0m\u001b[0;34m\u001b[0m\u001b[0m\n\u001b[0;32m-> 2383\u001b[0;31m         batch_size=batch_size)\n\u001b[0m\u001b[1;32m   2384\u001b[0m \u001b[0;34m\u001b[0m\u001b[0m\n\u001b[1;32m   2385\u001b[0m   def _standardize_tensors(self, x, y, sample_weight, run_eagerly, dict_inputs,\n",
            "\u001b[0;32m/usr/local/lib/python3.7/dist-packages/tensorflow_core/python/keras/engine/training.py\u001b[0m in \u001b[0;36m_standardize_tensors\u001b[0;34m(self, x, y, sample_weight, run_eagerly, dict_inputs, is_dataset, class_weight, batch_size)\u001b[0m\n\u001b[1;32m   2426\u001b[0m       \u001b[0mconverted_x\u001b[0m \u001b[0;34m=\u001b[0m \u001b[0;34m[\u001b[0m\u001b[0;34m]\u001b[0m\u001b[0;34m\u001b[0m\u001b[0;34m\u001b[0m\u001b[0m\n\u001b[1;32m   2427\u001b[0m       \u001b[0;32mfor\u001b[0m \u001b[0;34m(\u001b[0m\u001b[0ma\u001b[0m\u001b[0;34m,\u001b[0m \u001b[0mb\u001b[0m\u001b[0;34m)\u001b[0m \u001b[0;32min\u001b[0m \u001b[0mzip\u001b[0m\u001b[0;34m(\u001b[0m\u001b[0mflat_inputs\u001b[0m\u001b[0;34m,\u001b[0m \u001b[0mflat_expected_inputs\u001b[0m\u001b[0;34m)\u001b[0m\u001b[0;34m:\u001b[0m\u001b[0;34m\u001b[0m\u001b[0;34m\u001b[0m\u001b[0m\n\u001b[0;32m-> 2428\u001b[0;31m         \u001b[0mconverted_x\u001b[0m\u001b[0;34m.\u001b[0m\u001b[0mappend\u001b[0m\u001b[0;34m(\u001b[0m\u001b[0m_convert_scipy_sparse_tensor\u001b[0m\u001b[0;34m(\u001b[0m\u001b[0ma\u001b[0m\u001b[0;34m,\u001b[0m \u001b[0mb\u001b[0m\u001b[0;34m)\u001b[0m\u001b[0;34m)\u001b[0m\u001b[0;34m\u001b[0m\u001b[0;34m\u001b[0m\u001b[0m\n\u001b[0m\u001b[1;32m   2429\u001b[0m       \u001b[0mx\u001b[0m \u001b[0;34m=\u001b[0m \u001b[0mnest\u001b[0m\u001b[0;34m.\u001b[0m\u001b[0mpack_sequence_as\u001b[0m\u001b[0;34m(\u001b[0m\u001b[0mx\u001b[0m\u001b[0;34m,\u001b[0m \u001b[0mconverted_x\u001b[0m\u001b[0;34m,\u001b[0m \u001b[0mexpand_composites\u001b[0m\u001b[0;34m=\u001b[0m\u001b[0;32mFalse\u001b[0m\u001b[0;34m)\u001b[0m\u001b[0;34m\u001b[0m\u001b[0;34m\u001b[0m\u001b[0m\n\u001b[1;32m   2430\u001b[0m \u001b[0;34m\u001b[0m\u001b[0m\n",
            "\u001b[0;32m/usr/local/lib/python3.7/dist-packages/tensorflow_core/python/keras/engine/training.py\u001b[0m in \u001b[0;36m_convert_scipy_sparse_tensor\u001b[0;34m(value, expected_input)\u001b[0m\n\u001b[1;32m   3196\u001b[0m       \u001b[0;32mif\u001b[0m \u001b[0mops\u001b[0m\u001b[0;34m.\u001b[0m\u001b[0mexecuting_eagerly_outside_functions\u001b[0m\u001b[0;34m(\u001b[0m\u001b[0;34m)\u001b[0m\u001b[0;34m:\u001b[0m\u001b[0;34m\u001b[0m\u001b[0;34m\u001b[0m\u001b[0m\n\u001b[1;32m   3197\u001b[0m         \u001b[0;31m# In TF2 we do not silently densify sparse matrices.\u001b[0m\u001b[0;34m\u001b[0m\u001b[0;34m\u001b[0m\u001b[0;34m\u001b[0m\u001b[0m\n\u001b[0;32m-> 3198\u001b[0;31m         raise ValueError('A SciPy sparse matrix was passed to a model '\n\u001b[0m\u001b[1;32m   3199\u001b[0m                          \u001b[0;34m'that expects dense inputs. Please densify your '\u001b[0m\u001b[0;34m\u001b[0m\u001b[0;34m\u001b[0m\u001b[0m\n\u001b[1;32m   3200\u001b[0m                          'inputs first, such as by calling `x.toarray().')\n",
            "\u001b[0;31mValueError\u001b[0m: A SciPy sparse matrix was passed to a model that expects dense inputs. Please densify your inputs first, such as by calling `x.toarray()."
          ]
        }
      ],
      "source": [
        "y_pred = nn_model.predict(X_test)\n",
        "[i for i in y_pred]\n",
        "# accuracy_score(y_test, )"
      ]
    },
    {
      "cell_type": "code",
      "execution_count": null,
      "metadata": {
        "id": "fTZkD8Vumt0E"
      },
      "outputs": [],
      "source": [
        "# X_test = X_test[:, features]\n",
        "y_pred = clf.predict(X_test)\n"
      ]
    },
    {
      "cell_type": "code",
      "execution_count": null,
      "metadata": {
        "colab": {
          "base_uri": "https://localhost:8080/"
        },
        "id": "ToK_NhZbn1IH",
        "outputId": "4909a72a-85ae-4a4e-bcba-0f5937a0a293"
      },
      "outputs": [
        {
          "data": {
            "text/plain": [
              "0.4886195286195286"
            ]
          },
          "execution_count": 50,
          "metadata": {},
          "output_type": "execute_result"
        }
      ],
      "source": [
        "from sklearn.metrics import accuracy_score\n",
        "accuracy_score(y_test, y_pred)"
      ]
    }
  ],
  "metadata": {
    "accelerator": "GPU",
    "colab": {
      "collapsed_sections": [],
      "name": "Copy_of_DNN_PCA_HOTGOOD_ENCODER.ipynb",
      "provenance": []
    },
    "interpreter": {
      "hash": "55e188d73360ef65facbdb428bb41cd562ed6d874a152a3c577c858d595ae713"
    },
    "kernelspec": {
      "display_name": "Python 3.7.4 64-bit",
      "name": "python3"
    },
    "language_info": {
      "codemirror_mode": {
        "name": "ipython",
        "version": 3
      },
      "file_extension": ".py",
      "mimetype": "text/x-python",
      "name": "python",
      "nbconvert_exporter": "python",
      "pygments_lexer": "ipython3",
      "version": "3.7.4"
    }
  },
  "nbformat": 4,
  "nbformat_minor": 0
}
